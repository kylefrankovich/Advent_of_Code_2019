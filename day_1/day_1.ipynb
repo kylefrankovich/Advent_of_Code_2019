{
 "cells": [
  {
   "cell_type": "markdown",
   "metadata": {},
   "source": [
    "## --- Day 1: The Tyranny of the Rocket Equation ---\n",
    "Santa has become stranded at the edge of the Solar System while delivering presents to other planets! To accurately calculate his position in space, safely align his warp drive, and return to Earth in time to save Christmas, he needs you to bring him measurements from fifty stars.\n",
    "\n",
    "Collect stars by solving puzzles. Two puzzles will be made available on each day in the Advent calendar; the second puzzle is unlocked when you complete the first. Each puzzle grants one star. Good luck!\n",
    "\n",
    "The Elves quickly load you into a spacecraft and prepare to launch.\n",
    "\n",
    "At the first Go / No Go poll, every Elf is Go until the Fuel Counter-Upper. They haven't determined the amount of fuel required yet.\n",
    "\n",
    "Fuel required to launch a given module is based on its mass. Specifically, to find the fuel required for a module, take its mass, divide by three, round down, and subtract 2.\n",
    "\n",
    "For example:\n",
    "\n",
    "For a mass of 12, divide by 3 and round down to get 4, then subtract 2 to get 2.\n",
    "For a mass of 14, dividing by 3 and rounding down still yields 4, so the fuel required is also 2.\n",
    "For a mass of 1969, the fuel required is 654.\n",
    "For a mass of 100756, the fuel required is 33583.\n",
    "The Fuel Counter-Upper needs to know the total fuel requirement. To find it, individually calculate the fuel needed for the mass of each module (your puzzle input), then add together all the fuel values.\n",
    "\n",
    "What is the sum of the fuel requirements for all of the modules on your spacecraft?"
   ]
  },
  {
   "cell_type": "code",
   "execution_count": 8,
   "metadata": {
    "collapsed": true
   },
   "outputs": [],
   "source": [
    "import math"
   ]
  },
  {
   "cell_type": "code",
   "execution_count": 14,
   "metadata": {
    "collapsed": true
   },
   "outputs": [],
   "source": [
    "def calc_fuel_req(mass):\n",
    "    output = math.floor(mass/3) - 2\n",
    "    return output"
   ]
  },
  {
   "cell_type": "code",
   "execution_count": 19,
   "metadata": {
    "collapsed": false
   },
   "outputs": [
    {
     "data": {
      "text/plain": [
       "33583"
      ]
     },
     "execution_count": 19,
     "metadata": {},
     "output_type": "execute_result"
    }
   ],
   "source": [
    "calc_fuel_req(100756)"
   ]
  },
  {
   "cell_type": "code",
   "execution_count": 44,
   "metadata": {
    "collapsed": false
   },
   "outputs": [
    {
     "name": "stdout",
     "output_type": "stream",
     "text": [
      "['149895', '89996', '98406', '105129', '81621', '118239', '76034', '75248', '145049', '52137', '137654', '78153', '92688', '123037', '61391', '105590', '96292', '97343', '106933', '83151', '60467', '110976', '133919', '111869', '119326', '101284', '68673', '87159', '111010', '77874', '113160', '51401', '138135', '53885', '140769', '64373', '148795', '87103', '50288', '144316', '67856', '120288', '95355', '128460', '84755', '127690', '85806', '76292', '57886', '62479', '78576', '131616', '130344', '101320', '68605', '124509', '103802', '118230', '129314', '124777', '80908', '111895', '82578', '111454', '138739', '107566', '140125', '144627', '121508', '56419', '112553', '76470', '57530', '138587', '134643', '117339', '88833', '119183', '82644', '143335', '110222', '114309', '132245', '146443', '113942', '52574', '116978', '53635', '125507', '100058', '133025', '82765', '52334', '87317', '105273', '130353', '89154', '96997', '83906', '58085']\n"
     ]
    }
   ],
   "source": [
    "# import our data:\n",
    "\n",
    "f = open('day_one_input.txt', 'r')\n",
    "module_mass_list = f.read().splitlines()\n",
    "f.close()\n",
    "print(module_mass_list)"
   ]
  },
  {
   "cell_type": "markdown",
   "metadata": {},
   "source": [
    "## let's iterate through our modules to calculate the total fuel required:"
   ]
  },
  {
   "cell_type": "code",
   "execution_count": 51,
   "metadata": {
    "collapsed": false
   },
   "outputs": [
    {
     "name": "stdout",
     "output_type": "stream",
     "text": [
      "total fuel required: 3372695\n"
     ]
    }
   ],
   "source": [
    "counter = 0\n",
    "for i in module_mass_list:\n",
    "    counter += calc_fuel_req(int(i))\n",
    "print('total fuel required:',counter)"
   ]
  },
  {
   "cell_type": "markdown",
   "metadata": {},
   "source": [
    "## --- Part Two ---\n",
    "During the second Go / No Go poll, the Elf in charge of the Rocket Equation Double-Checker stops the launch sequence. Apparently, you forgot to include additional fuel for the fuel you just added.\n",
    "\n",
    "Fuel itself requires fuel just like a module - take its mass, divide by three, round down, and subtract 2. However, that fuel also requires fuel, and that fuel requires fuel, and so on. Any mass that would require negative fuel should instead be treated as if it requires zero fuel; the remaining mass, if any, is instead handled by wishing really hard, which has no mass and is outside the scope of this calculation.\n",
    "\n",
    "So, for each module mass, calculate its fuel and add it to the total. Then, treat the fuel amount you just calculated as the input mass and repeat the process, continuing until a fuel requirement is zero or negative. For example:\n",
    "\n",
    "A module of mass 14 requires 2 fuel. This fuel requires no further fuel (2 divided by 3 and rounded down is 0, which would call for a negative fuel), so the total fuel required is still just 2.\n",
    "At first, a module of mass 1969 requires 654 fuel. Then, this fuel requires 216 more fuel (654 / 3 - 2). 216 then requires 70 more fuel, which requires 21 fuel, which requires 5 fuel, which requires no further fuel. So, the total fuel required for a module of mass 1969 is 654 + 216 + 70 + 21 + 5 = 966.\n",
    "The fuel required by a module of mass 100756 and its fuel is: 33583 + 11192 + 3728 + 1240 + 411 + 135 + 43 + 12 + 2 = 50346.\n",
    "What is the sum of the fuel requirements for all of the modules on your spacecraft when also taking into account the mass of the added fuel? (Calculate the fuel requirements for each module separately, then add them all up at the end.)"
   ]
  },
  {
   "cell_type": "code",
   "execution_count": 107,
   "metadata": {
    "collapsed": false
   },
   "outputs": [],
   "source": [
    "calc_fuel_req(2)\n",
    "alt_fuel_list = [1969, 100756]"
   ]
  },
  {
   "cell_type": "code",
   "execution_count": 103,
   "metadata": {
    "collapsed": true
   },
   "outputs": [],
   "source": [
    "fuel_to_add = 0\n",
    "total_fuel_for_module = 0\n",
    "def recursive_calc_fuel_to_add(mass):\n",
    "    global total_fuel_for_module\n",
    "    fuel_to_add = calc_fuel_req(mass)\n",
    "#     print(fuel_to_add)\n",
    "    if fuel_to_add <= 0:\n",
    "        return total_fuel_for_module\n",
    "    else:\n",
    "        total_fuel_for_module += fuel_to_add\n",
    "        return recursive_calc_fuel_to_add(fuel_to_add)"
   ]
  },
  {
   "cell_type": "code",
   "execution_count": 109,
   "metadata": {
    "collapsed": false
   },
   "outputs": [
    {
     "data": {
      "text/plain": [
       "50346"
      ]
     },
     "execution_count": 109,
     "metadata": {},
     "output_type": "execute_result"
    }
   ],
   "source": [
    "fuel_to_add = 0\n",
    "total_fuel_for_module = 0\n",
    "recursive_calc_fuel_to_add(100756)"
   ]
  },
  {
   "cell_type": "markdown",
   "metadata": {},
   "source": [
    "## let's iterate through the modules again, this time taking into account the addition of fuel for the fuel we've already added:"
   ]
  },
  {
   "cell_type": "code",
   "execution_count": 120,
   "metadata": {
    "collapsed": false
   },
   "outputs": [
    {
     "name": "stdout",
     "output_type": "stream",
     "text": [
      "74913\n",
      "119879\n",
      "169047\n",
      "221580\n",
      "262359\n",
      "321448\n",
      "359432\n",
      "397025\n",
      "469515\n",
      "495553\n",
      "564345\n",
      "603389\n",
      "649703\n",
      "711190\n",
      "741854\n",
      "794616\n",
      "842730\n",
      "891368\n",
      "944802\n",
      "986347\n",
      "1016548\n",
      "1072004\n",
      "1138931\n",
      "1194834\n",
      "1254465\n",
      "1305075\n",
      "1339380\n",
      "1382928\n",
      "1438399\n",
      "1477304\n",
      "1533852\n",
      "1559521\n",
      "1628557\n",
      "1655468\n",
      "1725820\n",
      "1757974\n",
      "1832340\n",
      "1875860\n",
      "1900971\n",
      "1973094\n",
      "2006991\n",
      "2067105\n",
      "2114750\n",
      "2178946\n",
      "2221291\n",
      "2285104\n",
      "2327977\n",
      "2366089\n",
      "2395002\n",
      "2426211\n",
      "2465467\n",
      "2531242\n",
      "2596381\n",
      "2647008\n",
      "2681281\n",
      "2743502\n",
      "2795370\n",
      "2854455\n",
      "2919079\n",
      "2981436\n",
      "3021857\n",
      "3077773\n",
      "3119030\n",
      "3174724\n",
      "3244060\n",
      "3297812\n",
      "3367841\n",
      "3440123\n",
      "3500845\n",
      "3529024\n",
      "3585268\n",
      "3623471\n",
      "3652204\n",
      "3721464\n",
      "3788752\n",
      "3847388\n",
      "3891772\n",
      "3951331\n",
      "3992623\n",
      "4064256\n",
      "4119334\n",
      "4176456\n",
      "4242546\n",
      "4315732\n",
      "4372670\n",
      "4398928\n",
      "4457383\n",
      "4484170\n",
      "4546891\n",
      "4596887\n",
      "4663365\n",
      "4704715\n",
      "4730851\n",
      "4774478\n",
      "4827084\n",
      "4892228\n",
      "4936773\n",
      "4985239\n",
      "5027160\n",
      "5056172\n",
      "total fuel required: 5056172\n"
     ]
    }
   ],
   "source": [
    "counter = 0\n",
    "for i in module_mass_list:\n",
    "    fuel_to_add = 0\n",
    "    total_fuel_for_module = 0\n",
    "#     print(recursive_calc_fuel_to_add(int(i)))\n",
    "    counter += recursive_calc_fuel_to_add(int(i))\n",
    "    print(counter)\n",
    "print('total fuel required:', counter)"
   ]
  },
  {
   "cell_type": "code",
   "execution_count": 106,
   "metadata": {
    "collapsed": false
   },
   "outputs": [
    {
     "data": {
      "text/plain": [
       "29012"
      ]
     },
     "execution_count": 106,
     "metadata": {},
     "output_type": "execute_result"
    }
   ],
   "source": [
    "fuel_to_add = 0\n",
    "total_fuel_for_module = 0\n",
    "recursive_calc_fuel_to_add(58085)"
   ]
  },
  {
   "cell_type": "code",
   "execution_count": 111,
   "metadata": {
    "collapsed": false
   },
   "outputs": [
    {
     "data": {
      "text/plain": [
       "51312"
      ]
     },
     "execution_count": 111,
     "metadata": {},
     "output_type": "execute_result"
    }
   ],
   "source": [
    "50346+966"
   ]
  },
  {
   "cell_type": "code",
   "execution_count": null,
   "metadata": {
    "collapsed": true
   },
   "outputs": [],
   "source": []
  }
 ],
 "metadata": {
  "kernelspec": {
   "display_name": "Python [insight]",
   "language": "python",
   "name": "Python [insight]"
  },
  "language_info": {
   "codemirror_mode": {
    "name": "ipython",
    "version": 3
   },
   "file_extension": ".py",
   "mimetype": "text/x-python",
   "name": "python",
   "nbconvert_exporter": "python",
   "pygments_lexer": "ipython3",
   "version": "3.6.2"
  }
 },
 "nbformat": 4,
 "nbformat_minor": 0
}
