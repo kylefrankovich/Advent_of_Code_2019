{
 "cells": [
  {
   "cell_type": "markdown",
   "metadata": {},
   "source": [
    "## --- Day 3: Crossed Wires ---\n",
    "The gravity assist was successful, and you're well on your way to the Venus refuelling station. During the rush back on Earth, the fuel management system wasn't completely installed, so that's next on the priority list.\n",
    "\n",
    "Opening the front panel reveals a jumble of wires. Specifically, two wires are connected to a central port and extend outward on a grid. You trace the path each wire takes as it leaves the central port, one wire per line of text (your puzzle input).\n",
    "\n",
    "The wires twist and turn, but the two wires occasionally cross paths. To fix the circuit, you need to find the intersection point closest to the central port. Because the wires are on a grid, use the Manhattan distance for this measurement. While the wires do technically cross right at the central port where they both start, this point does not count, nor does a wire count as crossing with itself.\n",
    "\n",
    "For example, if the first wire's path is R8,U5,L5,D3, then starting from the central port (o), it goes right 8, up 5, left 5, and finally down 3:\n",
    "\n",
    "...........\n",
    "...........\n",
    "...........\n",
    "....+----+.\n",
    "....|....|.\n",
    "....|....|.\n",
    "....|....|.\n",
    ".........|.\n",
    ".o-------+.\n",
    "...........\n",
    "\n",
    "Then, if the second wire's path is U7,R6,D4,L4, it goes up 7, right 6, down 4, and left 4:\n",
    "\n",
    "...........\n",
    ".+-----+...\n",
    ".|.....|...\n",
    ".|..+--X-+.\n",
    ".|..|..|.|.\n",
    ".|.-X--+.|.\n",
    ".|..|....|.\n",
    ".|.......|.\n",
    ".o-------+.\n",
    "...........\n",
    "These wires cross at two locations (marked X), but the lower-left one is closer to the central port: its distance is 3 + 3 = 6.\n",
    "\n",
    "Here are a few more examples:\n",
    "\n",
    "R75,D30,R83,U83,L12,D49,R71,U7,L72\n",
    "U62,R66,U55,R34,D71,R55,D58,R83 = distance 159\n",
    "R98,U47,R26,D63,R33,U87,L62,D20,R33,U53,R51\n",
    "U98,R91,D20,R16,D67,R40,U7,R15,U6,R7 = distance 135\n",
    "What is the Manhattan distance from the central port to the closest intersection?"
   ]
  },
  {
   "cell_type": "code",
   "execution_count": 7,
   "metadata": {
    "collapsed": true
   },
   "outputs": [],
   "source": [
    "from shapely.geometry import LineString, MultiLineString"
   ]
  },
  {
   "cell_type": "code",
   "execution_count": 5,
   "metadata": {
    "collapsed": false
   },
   "outputs": [
    {
     "name": "stdout",
     "output_type": "stream",
     "text": [
      "['R1000,U564,L752,D449,R783,D938,L106,U130,R452,U462,R861,U654,L532,D485,R761,U336,L648,U671,L618,U429,R122,D183,L395,U662,R900,U644,L168,D778,L268,U896,L691,D852,L987,U462,R346,U103,R688,U926,R374,D543,R688,D682,R992,D140,L379,D245,L423,D504,R957,U937,L67,D560,L962,U275,R688,D617,L778,U581,R672,D402,R3,U251,R593,U897,L866,U189,L8,D5,R761,U546,R594,D880,L318,U410,L325,U564,L889,U688,L472,D146,R317,D314,L229,U259,R449,D630,L431,U4,R328,D727,R298,D558,R81,D508,L160,U113,L994,U263,L193,D631,R881,D608,L924,U447,R231,U885,L157,D739,R656,D121,R704,U437,L710,D207,R150,U406,R816,U683,R496,D715,L899,U757,L579,D684,L85,D354,R198,D411,R818,U772,L910,U493,R38,D130,L955,U741,R744,D224,L485,U201,L903,D904,R748,U288,R34,U673,R503,D931,L190,U547,L83,D341,R459,U114,L758,U220,L506,U444,L472,D941,L68,D910,R415,U668,L957,U709,R817,U116,R699,D424,R548,D285,R347,U396,R791,U62,L785,D360,L628,U415,L568,D429,R154,D840,L865,U181,L106,D564,L452,U156,L967,D421,R41,U500,L316,D747,R585,D858,L809,U402,L484,U752,R319,D563,R273,U84,R53,U874,L849,U90,R194,D969,R907,D625,L298,D984,R744,U172,R537,D177,L14,D921,L156,U133,R429,D787,R688,U894,L154,U192,R663,D225,L781,U426,R623,D60,L723,D995,R814,D195,L951,D594,R994,D543,L893,U781,R899,U85,R270,U303,R256,U977,R894,U948,R270,D301,L874,D388,R290,U986,L660,D741,L25,U381,R814,D150,R578,D529,R550,D176,R221,D653,R529,U83,R351,D462,R492,U338,R611,D5,L137,D547,R305,U356,R83,D880,R522,U681,R353,D54,R910,U774,L462,U48,L511,U750,R98,U455,R585,D579,L594', 'L1003,U936,R846,U549,L824,D684,R944,U902,R177,U875,L425,U631,L301,U515,L790,D233,R49,U408,L184,D103,R693,D307,L557,D771,L482,D502,R759,D390,L378,U982,L430,U337,L970,U400,R829,U212,L92,D670,R741,D566,L797,U477,L377,U837,R19,U849,L21,D870,L182,U414,L586,U768,L637,U135,R997,U405,L331,D256,L22,D46,L504,D660,L757,U676,L360,D499,R180,D723,L236,U78,R218,U523,L71,D60,L485,U503,L352,D969,R747,U831,L285,D859,L245,D517,L140,U463,L895,U284,L546,U342,R349,D438,R816,U21,L188,U482,L687,D903,L234,U15,L758,D294,R789,D444,L498,D436,L240,D956,L666,U686,R978,D827,R919,U108,R975,D35,R475,U59,L374,U24,L26,D497,R454,D388,R180,D561,R80,D433,R439,D818,R962,D912,R247,U972,R948,D807,R867,D946,R725,U395,R706,U187,L17,U332,L862,D660,L70,U608,R223,D506,R592,U357,R520,D149,L572,D800,L570,D358,R648,U174,R520,U153,L807,U92,R840,U560,L938,D599,R972,D539,R385,D495,L26,D894,L907,D103,L494,U51,L803,D620,L68,D226,R947,U210,R864,D755,L681,D520,L867,D577,R378,D741,L91,D294,L289,D531,L301,U638,L496,U83,L278,D327,R351,D697,L593,U331,R91,D967,R419,D327,R78,U304,R462,D2,L656,D700,L27,D29,L598,U741,L349,D957,R161,U688,R326,D798,L263,U45,L883,U982,R116,D835,L878,U253,L232,D732,R639,D408,R997,D867,R726,D258,L65,D600,L315,U783,L761,U606,R67,D949,L475,U542,L231,U279,L950,U649,L670,D870,L264,U958,R748,D365,R252,D129,R754,U27,R571,D690,L671,U143,L750,U303,L412,U24,L443,D550,R826,U699,L558,U543,L881,D204,R248,D192,R813,U316,L76,D78,R523,U716,L422,D793,R684,D175,L347,D466,L219,D140,L803,U433,R96']\n"
     ]
    }
   ],
   "source": [
    "# load our input data:\n",
    "# import our data:\n",
    "fname = 'day_3_input.txt'\n",
    "f = open(fname, 'r')\n",
    "wire_grid = f.read().splitlines()\n",
    "f.close()\n",
    "# wire_grid = list(map(str, wire_grid[0].split(',')))\n",
    "print(wire_grid)\n",
    "path_1 = list(map(str, wire_grid[0].split(',')))\n",
    "path_2 = list(map(str, wire_grid[1].split(',')))"
   ]
  },
  {
   "cell_type": "code",
   "execution_count": 43,
   "metadata": {
    "collapsed": false
   },
   "outputs": [
    {
     "data": {
      "text/plain": [
       "301"
      ]
     },
     "execution_count": 43,
     "metadata": {},
     "output_type": "execute_result"
    }
   ],
   "source": [
    "# len(path_2)\n",
    "len(path_1)"
   ]
  },
  {
   "cell_type": "code",
   "execution_count": 28,
   "metadata": {
    "collapsed": false
   },
   "outputs": [],
   "source": [
    "# path_1"
   ]
  },
  {
   "cell_type": "code",
   "execution_count": 145,
   "metadata": {
    "collapsed": false
   },
   "outputs": [
    {
     "data": {
      "text/plain": [
       "'R'"
      ]
     },
     "execution_count": 145,
     "metadata": {},
     "output_type": "execute_result"
    }
   ],
   "source": [
    "path_1[0][0]"
   ]
  },
  {
   "cell_type": "code",
   "execution_count": 155,
   "metadata": {
    "collapsed": false
   },
   "outputs": [
    {
     "data": {
      "text/plain": [
       "1000"
      ]
     },
     "execution_count": 155,
     "metadata": {},
     "output_type": "execute_result"
    }
   ],
   "source": [
    "int(path_1[0][1:])"
   ]
  },
  {
   "cell_type": "code",
   "execution_count": null,
   "metadata": {
    "collapsed": false
   },
   "outputs": [],
   "source": []
  },
  {
   "cell_type": "code",
   "execution_count": 70,
   "metadata": {
    "collapsed": false
   },
   "outputs": [],
   "source": [
    "# Create two lines\n",
    "line_a = LineString([(0, 0), (1, 1), (1,2), (1,4)])\n",
    "line_b = LineString([(1, 1), (0, 2), (0,3), (2,3)])"
   ]
  },
  {
   "cell_type": "code",
   "execution_count": 71,
   "metadata": {
    "collapsed": false
   },
   "outputs": [
    {
     "data": {
      "text/plain": [
       "True"
      ]
     },
     "execution_count": 71,
     "metadata": {},
     "output_type": "execute_result"
    }
   ],
   "source": [
    "line_a.intersects(line_b)"
   ]
  },
  {
   "cell_type": "code",
   "execution_count": 72,
   "metadata": {
    "collapsed": false
   },
   "outputs": [
    {
     "data": {
      "text/plain": [
       "False"
      ]
     },
     "execution_count": 72,
     "metadata": {},
     "output_type": "execute_result"
    }
   ],
   "source": [
    "line_a.touches(line_b)"
   ]
  },
  {
   "cell_type": "code",
   "execution_count": 73,
   "metadata": {
    "collapsed": false
   },
   "outputs": [
    {
     "data": {
      "image/svg+xml": [
       "<svg xmlns=\"http://www.w3.org/2000/svg\" xmlns:xlink=\"http://www.w3.org/1999/xlink\" width=\"100.0\" height=\"100.0\" viewBox=\"-0.16 -0.16 2.3200000000000003 4.32\" preserveAspectRatio=\"xMinYMin meet\"><g transform=\"matrix(1,0,0,-1,0,4.0)\"><g><polyline fill=\"none\" stroke=\"#66cc99\" stroke-width=\"0.0864\" points=\"0.0,0.0 1.0,1.0 1.0,2.0 1.0,4.0\" opacity=\"0.8\" /><polyline fill=\"none\" stroke=\"#66cc99\" stroke-width=\"0.0864\" points=\"1.0,1.0 0.0,2.0 0.0,3.0 2.0,3.0\" opacity=\"0.8\" /></g></g></svg>"
      ],
      "text/plain": [
       "<shapely.geometry.multilinestring.MultiLineString at 0x11466c940>"
      ]
     },
     "execution_count": 73,
     "metadata": {},
     "output_type": "execute_result"
    }
   ],
   "source": [
    "multi_line = MultiLineString([line_a, line_b])\n",
    "multi_line"
   ]
  },
  {
   "cell_type": "code",
   "execution_count": 95,
   "metadata": {
    "collapsed": false
   },
   "outputs": [
    {
     "name": "stdout",
     "output_type": "stream",
     "text": [
      "MULTIPOINT (1 1, 1 3)\n"
     ]
    }
   ],
   "source": [
    "line_a.intersection(line_b)\n",
    "print(line_a.intersection(line_b))"
   ]
  },
  {
   "cell_type": "code",
   "execution_count": 96,
   "metadata": {
    "collapsed": false
   },
   "outputs": [
    {
     "name": "stdout",
     "output_type": "stream",
     "text": [
      "POINT (1 1)\n"
     ]
    }
   ],
   "source": [
    "line1 = LineString([(0,0), (1,0), (1,1)])\n",
    "line2 = LineString([(0,1), (1,1)])\n",
    "\n",
    "print(line1.intersection(line2))"
   ]
  },
  {
   "cell_type": "code",
   "execution_count": 8,
   "metadata": {
    "collapsed": true
   },
   "outputs": [],
   "source": [
    "# line 1 instructions: R8,U5,L5,D3\n",
    "# line 2 instructions: U7,R6,D4,L4\n",
    "\n",
    "# Create two lines\n",
    "ex_line_1 = LineString([(0, 0), (8, 0), (8,5), (3,5), (3,2)])\n",
    "ex_line_2 = LineString([(0, 0), (0, 7), (6,7), (6,3), (2,3)])"
   ]
  },
  {
   "cell_type": "code",
   "execution_count": null,
   "metadata": {
    "collapsed": false
   },
   "outputs": [],
   "source": []
  },
  {
   "cell_type": "code",
   "execution_count": 9,
   "metadata": {
    "collapsed": false
   },
   "outputs": [
    {
     "data": {
      "image/svg+xml": [
       "<svg xmlns=\"http://www.w3.org/2000/svg\" xmlns:xlink=\"http://www.w3.org/1999/xlink\" width=\"100.0\" height=\"100.0\" viewBox=\"-0.32 -0.32 8.64 7.640000000000001\" preserveAspectRatio=\"xMinYMin meet\"><g transform=\"matrix(1,0,0,-1,0,7.0)\"><g><polyline fill=\"none\" stroke=\"#66cc99\" stroke-width=\"0.1728\" points=\"0.0,0.0 8.0,0.0 8.0,5.0 3.0,5.0 3.0,2.0\" opacity=\"0.8\" /><polyline fill=\"none\" stroke=\"#66cc99\" stroke-width=\"0.1728\" points=\"0.0,0.0 0.0,7.0 6.0,7.0 6.0,3.0 2.0,3.0\" opacity=\"0.8\" /></g></g></svg>"
      ],
      "text/plain": [
       "<shapely.geometry.multilinestring.MultiLineString at 0x10f35de48>"
      ]
     },
     "execution_count": 9,
     "metadata": {},
     "output_type": "execute_result"
    }
   ],
   "source": [
    "MultiLineString([ex_line_1, ex_line_2])"
   ]
  },
  {
   "cell_type": "code",
   "execution_count": 10,
   "metadata": {
    "collapsed": false
   },
   "outputs": [
    {
     "name": "stdout",
     "output_type": "stream",
     "text": [
      "MULTIPOINT (0 0, 3 3, 6 5)\n",
      "MULTIPOINT (0 0, 3 3, 6 5)\n"
     ]
    }
   ],
   "source": [
    "print(ex_line_1.intersection(ex_line_2))\n",
    "print(ex_line_1.intersection(ex_line_2))"
   ]
  },
  {
   "cell_type": "code",
   "execution_count": 108,
   "metadata": {
    "collapsed": false
   },
   "outputs": [
    {
     "data": {
      "text/plain": [
       "6.0"
      ]
     },
     "execution_count": 108,
     "metadata": {},
     "output_type": "execute_result"
    }
   ],
   "source": [
    "x_coord_1 = ex_line_1.intersection(ex_line_2)[1].x\n",
    "x_coord_2 = ex_line_1.intersection(ex_line_2)[0].x\n",
    "\n",
    "y_coord_1 = ex_line_1.intersection(ex_line_2)[1].y\n",
    "y_coord_2 = ex_line_1.intersection(ex_line_2)[0].y\n",
    "\n",
    "(x_coord_1-x_coord_2)+(y_coord_1-y_coord_2)"
   ]
  },
  {
   "cell_type": "code",
   "execution_count": null,
   "metadata": {
    "collapsed": true
   },
   "outputs": [],
   "source": [
    "coordinates = []\n",
    "def points_to_coords(points):\n",
    "    coordinates.append([])"
   ]
  },
  {
   "cell_type": "code",
   "execution_count": 27,
   "metadata": {
    "collapsed": true
   },
   "outputs": [],
   "source": [
    "# we need a function to go from instructions to coordinates:\n",
    "\n",
    "\n",
    "# line 1 instructions: R8,U5,L5,D3\n",
    "# line 2 instructions: U7,R6,D4,L4\n",
    "\n",
    "instruction_example = ['R8','U5','L5','D3']\n",
    "instruction_example2 = ['U7','R6','D4','L4']\n",
    "\n",
    "# Create two lines\n",
    "ex_line_1 = LineString([(0, 0), (8, 0), (8,5), (3,5), (3,2)])\n",
    "ex_line_2 = LineString([(0, 0), (0, 7), (6,7), (6,3), (2,3)])\n",
    "\n",
    "origin = (0,0)\n",
    "blah = [origin]\n",
    "blah.append(origin)"
   ]
  },
  {
   "cell_type": "code",
   "execution_count": 4,
   "metadata": {
    "collapsed": false
   },
   "outputs": [],
   "source": [
    "origin = (0,0)\n",
    "def instruction_to_coords(instructions, start_position):\n",
    "    coord_dict = []\n",
    "    coord_dict.append(origin)\n",
    "    for i in instructions:\n",
    "        if i[0] == 'R':\n",
    "            new_x = start_position[0] + int(i[1:])\n",
    "            new_y = start_position[1]\n",
    "        elif i[0] == 'L':\n",
    "            new_x = start_position[0] - int(i[1:])\n",
    "            new_y = start_position[1]\n",
    "        elif i[0] == 'U':\n",
    "            new_y = start_position[1] + int(i[1:])\n",
    "            new_x = start_position[0]\n",
    "        elif i[0] == 'D':\n",
    "            new_y = start_position[1] - int(i[1:])\n",
    "            new_x = start_position[0]\n",
    "        coords = (new_x,new_y)\n",
    "        coord_dict.append(coords)\n",
    "        start_position = coords\n",
    "        \n",
    "    return coord_dict"
   ]
  },
  {
   "cell_type": "code",
   "execution_count": 163,
   "metadata": {
    "collapsed": false
   },
   "outputs": [
    {
     "data": {
      "text/plain": [
       "(0, 0)"
      ]
     },
     "execution_count": 163,
     "metadata": {},
     "output_type": "execute_result"
    }
   ],
   "source": [
    "origin"
   ]
  },
  {
   "cell_type": "code",
   "execution_count": 159,
   "metadata": {
    "collapsed": false
   },
   "outputs": [
    {
     "data": {
      "text/plain": [
       "['R8', 'U5', 'L5', 'D3']"
      ]
     },
     "execution_count": 159,
     "metadata": {},
     "output_type": "execute_result"
    }
   ],
   "source": [
    "instruction_example"
   ]
  },
  {
   "cell_type": "code",
   "execution_count": 165,
   "metadata": {
    "collapsed": false
   },
   "outputs": [
    {
     "data": {
      "text/plain": [
       "[(0, 0), (8, 0), (8, 5), (3, 5), (3, 2)]"
      ]
     },
     "execution_count": 165,
     "metadata": {},
     "output_type": "execute_result"
    }
   ],
   "source": [
    "instruction_to_coords(instruction_example,origin)"
   ]
  },
  {
   "cell_type": "code",
   "execution_count": 167,
   "metadata": {
    "collapsed": false
   },
   "outputs": [
    {
     "data": {
      "text/plain": [
       "[(0, 0), (0, 7), (6, 7), (6, 3), (2, 3)]"
      ]
     },
     "execution_count": 167,
     "metadata": {},
     "output_type": "execute_result"
    }
   ],
   "source": [
    "instruction_to_coords(instruction_example2,origin)"
   ]
  },
  {
   "cell_type": "code",
   "execution_count": 28,
   "metadata": {
    "collapsed": false
   },
   "outputs": [
    {
     "name": "stdout",
     "output_type": "stream",
     "text": [
      "MULTIPOINT (0 0, 3 3, 6 5)\n"
     ]
    }
   ],
   "source": [
    "print(LineString(instruction_to_coords(instruction_example,origin)).intersection(LineString(instruction_to_coords(instruction_example2,origin))))"
   ]
  },
  {
   "cell_type": "code",
   "execution_count": 97,
   "metadata": {
    "collapsed": false
   },
   "outputs": [],
   "source": [
    "# Here are a few more examples:\n",
    "\n",
    "l1 = ['R75','D30','R83','U83','L12','D49','R71','U7','L72']\n",
    "l2 = ['U62','R66','U55','R34','D71','R55','D58','R83'] # = distance 159\n",
    "l3 = ['R98','U47','R26','D63','R33','U87','L62','D20','R33','U53','R51']\n",
    "l4 = ['U98','R91','D20','R16','D67','R40','U7','R15','U6','R7'] # = distance 135"
   ]
  },
  {
   "cell_type": "code",
   "execution_count": 98,
   "metadata": {
    "collapsed": false
   },
   "outputs": [],
   "source": [
    "line1 = instruction_to_coords(l1,origin)\n",
    "line2 = instruction_to_coords(l2,origin)\n",
    "line3 = instruction_to_coords(l3,origin)\n",
    "line4 = instruction_to_coords(l4,origin)"
   ]
  },
  {
   "cell_type": "code",
   "execution_count": 172,
   "metadata": {
    "collapsed": false
   },
   "outputs": [
    {
     "data": {
      "image/svg+xml": [
       "<svg xmlns=\"http://www.w3.org/2000/svg\" xmlns:xlink=\"http://www.w3.org/1999/xlink\" width=\"257.04\" height=\"166.04\" viewBox=\"-9.52 -39.519999999999996 257.04 166.04\" preserveAspectRatio=\"xMinYMin meet\"><g transform=\"matrix(1,0,0,-1,0,87.0)\"><g><polyline fill=\"none\" stroke=\"#66cc99\" stroke-width=\"2.0\" points=\"0.0,0.0 75.0,0.0 75.0,-30.0 158.0,-30.0 158.0,53.0 146.0,53.0 146.0,4.0 217.0,4.0 217.0,11.0 145.0,11.0\" opacity=\"0.8\" /><polyline fill=\"none\" stroke=\"#66cc99\" stroke-width=\"2.0\" points=\"0.0,0.0 0.0,62.0 66.0,62.0 66.0,117.0 100.0,117.0 100.0,46.0 155.0,46.0 155.0,-12.0 238.0,-12.0\" opacity=\"0.8\" /></g></g></svg>"
      ],
      "text/plain": [
       "<shapely.geometry.multilinestring.MultiLineString at 0x1146ea160>"
      ]
     },
     "execution_count": 172,
     "metadata": {},
     "output_type": "execute_result"
    }
   ],
   "source": [
    "MultiLineString([line1, line2])"
   ]
  },
  {
   "cell_type": "code",
   "execution_count": 177,
   "metadata": {
    "collapsed": false
   },
   "outputs": [
    {
     "name": "stdout",
     "output_type": "stream",
     "text": [
      "MULTIPOINT (0 0, 146 46, 155 4, 155 11, 158 -12)\n"
     ]
    }
   ],
   "source": [
    "print(LineString(line1).intersection(LineString(line2)))"
   ]
  },
  {
   "cell_type": "code",
   "execution_count": 183,
   "metadata": {
    "collapsed": false
   },
   "outputs": [
    {
     "name": "stdout",
     "output_type": "stream",
     "text": [
      "MULTIPOINT (0 0, 107 47, 107 51, 107 71, 124 11, 157 18)\n"
     ]
    }
   ],
   "source": [
    "print(LineString(line3).intersection(LineString(line4)))"
   ]
  },
  {
   "cell_type": "code",
   "execution_count": 201,
   "metadata": {
    "collapsed": false
   },
   "outputs": [
    {
     "name": "stdout",
     "output_type": "stream",
     "text": [
      "0.0\n",
      "192.0\n",
      "159.0\n",
      "166.0\n",
      "146.0\n"
     ]
    }
   ],
   "source": [
    "for i in LineString(line1).intersection(LineString(line2)):\n",
    "    print(i.x+i.y)"
   ]
  },
  {
   "cell_type": "code",
   "execution_count": 3,
   "metadata": {
    "collapsed": false
   },
   "outputs": [],
   "source": [
    "# note: this manhattan distance calculation is defaulting to distance to the origin, not a given point\n",
    "def get_min_manhattan(line_intersections):\n",
    "    output = []\n",
    "    for i in line_intersections:\n",
    "        result = abs(i.x)+abs(i.y)\n",
    "        if result > 0:\n",
    "            output.append(result)\n",
    "    return min(output)"
   ]
  },
  {
   "cell_type": "code",
   "execution_count": 14,
   "metadata": {
    "collapsed": false
   },
   "outputs": [
    {
     "data": {
      "text/plain": [
       "159.0"
      ]
     },
     "execution_count": 14,
     "metadata": {},
     "output_type": "execute_result"
    }
   ],
   "source": [
    "get_min_manhattan(LineString(line1).intersection(LineString(line2)))"
   ]
  },
  {
   "cell_type": "code",
   "execution_count": 15,
   "metadata": {
    "collapsed": false
   },
   "outputs": [
    {
     "data": {
      "text/plain": [
       "135.0"
      ]
     },
     "execution_count": 15,
     "metadata": {},
     "output_type": "execute_result"
    }
   ],
   "source": [
    "get_min_manhattan(LineString(line3).intersection(LineString(line4)))"
   ]
  },
  {
   "cell_type": "code",
   "execution_count": 16,
   "metadata": {
    "collapsed": false
   },
   "outputs": [
    {
     "data": {
      "image/svg+xml": [
       "<svg xmlns=\"http://www.w3.org/2000/svg\" xmlns:xlink=\"http://www.w3.org/1999/xlink\" width=\"300\" height=\"300\" viewBox=\"-9139.16 -14124.16 17117.32 20416.32\" preserveAspectRatio=\"xMinYMin meet\"><g transform=\"matrix(1,0,0,-1,0,-7832.0)\"><g><polyline fill=\"none\" stroke=\"#66cc99\" stroke-width=\"136.1088\" points=\"0.0,0.0 1000.0,0.0 1000.0,564.0 248.0,564.0 248.0,115.0 1031.0,115.0 1031.0,-823.0 925.0,-823.0 925.0,-693.0 1377.0,-693.0 1377.0,-231.0 2238.0,-231.0 2238.0,423.0 1706.0,423.0 1706.0,-62.0 2467.0,-62.0 2467.0,274.0 1819.0,274.0 1819.0,945.0 1201.0,945.0 1201.0,1374.0 1323.0,1374.0 1323.0,1191.0 928.0,1191.0 928.0,1853.0 1828.0,1853.0 1828.0,2497.0 1660.0,2497.0 1660.0,1719.0 1392.0,1719.0 1392.0,2615.0 701.0,2615.0 701.0,1763.0 -286.0,1763.0 -286.0,2225.0 60.0,2225.0 60.0,2328.0 748.0,2328.0 748.0,3254.0 1122.0,3254.0 1122.0,2711.0 1810.0,2711.0 1810.0,2029.0 2802.0,2029.0 2802.0,1889.0 2423.0,1889.0 2423.0,1644.0 2000.0,1644.0 2000.0,1140.0 2957.0,1140.0 2957.0,2077.0 2890.0,2077.0 2890.0,1517.0 1928.0,1517.0 1928.0,1792.0 2616.0,1792.0 2616.0,1175.0 1838.0,1175.0 1838.0,1756.0 2510.0,1756.0 2510.0,1354.0 2513.0,1354.0 2513.0,1605.0 3106.0,1605.0 3106.0,2502.0 2240.0,2502.0 2240.0,2691.0 2232.0,2691.0 2232.0,2686.0 2993.0,2686.0 2993.0,3232.0 3587.0,3232.0 3587.0,2352.0 3269.0,2352.0 3269.0,2762.0 2944.0,2762.0 2944.0,3326.0 2055.0,3326.0 2055.0,4014.0 1583.0,4014.0 1583.0,3868.0 1900.0,3868.0 1900.0,3554.0 1671.0,3554.0 1671.0,3813.0 2120.0,3813.0 2120.0,3183.0 1689.0,3183.0 1689.0,3187.0 2017.0,3187.0 2017.0,2460.0 2315.0,2460.0 2315.0,1902.0 2396.0,1902.0 2396.0,1394.0 2236.0,1394.0 2236.0,1507.0 1242.0,1507.0 1242.0,1770.0 1049.0,1770.0 1049.0,1139.0 1930.0,1139.0 1930.0,531.0 1006.0,531.0 1006.0,978.0 1237.0,978.0 1237.0,1863.0 1080.0,1863.0 1080.0,1124.0 1736.0,1124.0 1736.0,1003.0 2440.0,1003.0 2440.0,1440.0 1730.0,1440.0 1730.0,1233.0 1880.0,1233.0 1880.0,1639.0 2696.0,1639.0 2696.0,2322.0 3192.0,2322.0 3192.0,1607.0 2293.0,1607.0 2293.0,2364.0 1714.0,2364.0 1714.0,1680.0 1629.0,1680.0 1629.0,1326.0 1827.0,1326.0 1827.0,915.0 2645.0,915.0 2645.0,1687.0 1735.0,1687.0 1735.0,2180.0 1773.0,2180.0 1773.0,2050.0 818.0,2050.0 818.0,2791.0 1562.0,2791.0 1562.0,2567.0 1077.0,2567.0 1077.0,2768.0 174.0,2768.0 174.0,1864.0 922.0,1864.0 922.0,2152.0 956.0,2152.0 956.0,2825.0 1459.0,2825.0 1459.0,1894.0 1269.0,1894.0 1269.0,2441.0 1186.0,2441.0 1186.0,2100.0 1645.0,2100.0 1645.0,2214.0 887.0,2214.0 887.0,2434.0 381.0,2434.0 381.0,2878.0 -91.0,2878.0 -91.0,1937.0 -159.0,1937.0 -159.0,1027.0 256.0,1027.0 256.0,1695.0 -701.0,1695.0 -701.0,2404.0 116.0,2404.0 116.0,2520.0 815.0,2520.0 815.0,2096.0 1363.0,2096.0 1363.0,1811.0 1710.0,1811.0 1710.0,2207.0 2501.0,2207.0 2501.0,2269.0 1716.0,2269.0 1716.0,1909.0 1088.0,1909.0 1088.0,2324.0 520.0,2324.0 520.0,1895.0 674.0,1895.0 674.0,1055.0 -191.0,1055.0 -191.0,1236.0 -297.0,1236.0 -297.0,672.0 -749.0,672.0 -749.0,828.0 -1716.0,828.0 -1716.0,407.0 -1675.0,407.0 -1675.0,907.0 -1991.0,907.0 -1991.0,160.0 -1406.0,160.0 -1406.0,-698.0 -2215.0,-698.0 -2215.0,-296.0 -2699.0,-296.0 -2699.0,456.0 -2380.0,456.0 -2380.0,-107.0 -2107.0,-107.0 -2107.0,-23.0 -2054.0,-23.0 -2054.0,851.0 -2903.0,851.0 -2903.0,941.0 -2709.0,941.0 -2709.0,-28.0 -1802.0,-28.0 -1802.0,-653.0 -2100.0,-653.0 -2100.0,-1637.0 -1356.0,-1637.0 -1356.0,-1465.0 -819.0,-1465.0 -819.0,-1642.0 -833.0,-1642.0 -833.0,-2563.0 -989.0,-2563.0 -989.0,-2430.0 -560.0,-2430.0 -560.0,-3217.0 128.0,-3217.0 128.0,-2323.0 -26.0,-2323.0 -26.0,-2131.0 637.0,-2131.0 637.0,-2356.0 -144.0,-2356.0 -144.0,-1930.0 479.0,-1930.0 479.0,-1990.0 -244.0,-1990.0 -244.0,-2985.0 570.0,-2985.0 570.0,-3180.0 -381.0,-3180.0 -381.0,-3774.0 613.0,-3774.0 613.0,-4317.0 -280.0,-4317.0 -280.0,-3536.0 619.0,-3536.0 619.0,-3451.0 889.0,-3451.0 889.0,-3148.0 1145.0,-3148.0 1145.0,-2171.0 2039.0,-2171.0 2039.0,-1223.0 2309.0,-1223.0 2309.0,-1524.0 1435.0,-1524.0 1435.0,-1912.0 1725.0,-1912.0 1725.0,-926.0 1065.0,-926.0 1065.0,-1667.0 1040.0,-1667.0 1040.0,-1286.0 1854.0,-1286.0 1854.0,-1436.0 2432.0,-1436.0 2432.0,-1965.0 2982.0,-1965.0 2982.0,-2141.0 3203.0,-2141.0 3203.0,-2794.0 3732.0,-2794.0 3732.0,-2711.0 4083.0,-2711.0 4083.0,-3173.0 4575.0,-3173.0 4575.0,-2835.0 5186.0,-2835.0 5186.0,-2840.0 5049.0,-2840.0 5049.0,-3387.0 5354.0,-3387.0 5354.0,-3031.0 5437.0,-3031.0 5437.0,-3911.0 5959.0,-3911.0 5959.0,-3230.0 6312.0,-3230.0 6312.0,-3284.0 7222.0,-3284.0 7222.0,-2510.0 6760.0,-2510.0 6760.0,-2462.0 6249.0,-2462.0 6249.0,-1712.0 6347.0,-1712.0 6347.0,-1257.0 6932.0,-1257.0 6932.0,-1836.0 6338.0,-1836.0\" opacity=\"0.8\" /><polyline fill=\"none\" stroke=\"#66cc99\" stroke-width=\"136.1088\" points=\"0.0,0.0 -1003.0,0.0 -1003.0,936.0 -157.0,936.0 -157.0,1485.0 -981.0,1485.0 -981.0,801.0 -37.0,801.0 -37.0,1703.0 140.0,1703.0 140.0,2578.0 -285.0,2578.0 -285.0,3209.0 -586.0,3209.0 -586.0,3724.0 -1376.0,3724.0 -1376.0,3491.0 -1327.0,3491.0 -1327.0,3899.0 -1511.0,3899.0 -1511.0,3796.0 -818.0,3796.0 -818.0,3489.0 -1375.0,3489.0 -1375.0,2718.0 -1857.0,2718.0 -1857.0,2216.0 -1098.0,2216.0 -1098.0,1826.0 -1476.0,1826.0 -1476.0,2808.0 -1906.0,2808.0 -1906.0,3145.0 -2876.0,3145.0 -2876.0,3545.0 -2047.0,3545.0 -2047.0,3757.0 -2139.0,3757.0 -2139.0,3087.0 -1398.0,3087.0 -1398.0,2521.0 -2195.0,2521.0 -2195.0,2998.0 -2572.0,2998.0 -2572.0,3835.0 -2553.0,3835.0 -2553.0,4684.0 -2574.0,4684.0 -2574.0,3814.0 -2756.0,3814.0 -2756.0,4228.0 -3342.0,4228.0 -3342.0,4996.0 -3979.0,4996.0 -3979.0,5131.0 -2982.0,5131.0 -2982.0,5536.0 -3313.0,5536.0 -3313.0,5280.0 -3335.0,5280.0 -3335.0,5234.0 -3839.0,5234.0 -3839.0,4574.0 -4596.0,4574.0 -4596.0,5250.0 -4956.0,5250.0 -4956.0,4751.0 -4776.0,4751.0 -4776.0,4028.0 -5012.0,4028.0 -5012.0,4106.0 -4794.0,4106.0 -4794.0,4629.0 -4865.0,4629.0 -4865.0,4569.0 -5350.0,4569.0 -5350.0,5072.0 -5702.0,5072.0 -5702.0,4103.0 -4955.0,4103.0 -4955.0,4934.0 -5240.0,4934.0 -5240.0,4075.0 -5485.0,4075.0 -5485.0,3558.0 -5625.0,3558.0 -5625.0,4021.0 -6520.0,4021.0 -6520.0,4305.0 -7066.0,4305.0 -7066.0,4647.0 -6717.0,4647.0 -6717.0,4209.0 -5901.0,4209.0 -5901.0,4230.0 -6089.0,4230.0 -6089.0,4712.0 -6776.0,4712.0 -6776.0,3809.0 -7010.0,3809.0 -7010.0,3824.0 -7768.0,3824.0 -7768.0,3530.0 -6979.0,3530.0 -6979.0,3086.0 -7477.0,3086.0 -7477.0,2650.0 -7717.0,2650.0 -7717.0,1694.0 -8383.0,1694.0 -8383.0,2380.0 -7405.0,2380.0 -7405.0,1553.0 -6486.0,1553.0 -6486.0,1661.0 -5511.0,1661.0 -5511.0,1626.0 -5036.0,1626.0 -5036.0,1685.0 -5410.0,1685.0 -5410.0,1709.0 -5436.0,1709.0 -5436.0,1212.0 -4982.0,1212.0 -4982.0,824.0 -4802.0,824.0 -4802.0,263.0 -4722.0,263.0 -4722.0,-170.0 -4283.0,-170.0 -4283.0,-988.0 -3321.0,-988.0 -3321.0,-1900.0 -3074.0,-1900.0 -3074.0,-928.0 -2126.0,-928.0 -2126.0,-1735.0 -1259.0,-1735.0 -1259.0,-2681.0 -534.0,-2681.0 -534.0,-2286.0 172.0,-2286.0 172.0,-2099.0 155.0,-2099.0 155.0,-1767.0 -707.0,-1767.0 -707.0,-2427.0 -777.0,-2427.0 -777.0,-1819.0 -554.0,-1819.0 -554.0,-2325.0 38.0,-2325.0 38.0,-1968.0 558.0,-1968.0 558.0,-2117.0 -14.0,-2117.0 -14.0,-2917.0 -584.0,-2917.0 -584.0,-3275.0 64.0,-3275.0 64.0,-3101.0 584.0,-3101.0 584.0,-2948.0 -223.0,-2948.0 -223.0,-2856.0 617.0,-2856.0 617.0,-2296.0 -321.0,-2296.0 -321.0,-2895.0 651.0,-2895.0 651.0,-3434.0 1036.0,-3434.0 1036.0,-3929.0 1010.0,-3929.0 1010.0,-4823.0 103.0,-4823.0 103.0,-4926.0 -391.0,-4926.0 -391.0,-4875.0 -1194.0,-4875.0 -1194.0,-5495.0 -1262.0,-5495.0 -1262.0,-5721.0 -315.0,-5721.0 -315.0,-5511.0 549.0,-5511.0 549.0,-6266.0 -132.0,-6266.0 -132.0,-6786.0 -999.0,-6786.0 -999.0,-7363.0 -621.0,-7363.0 -621.0,-8104.0 -712.0,-8104.0 -712.0,-8398.0 -1001.0,-8398.0 -1001.0,-8929.0 -1302.0,-8929.0 -1302.0,-8291.0 -1798.0,-8291.0 -1798.0,-8208.0 -2076.0,-8208.0 -2076.0,-8535.0 -1725.0,-8535.0 -1725.0,-9232.0 -2318.0,-9232.0 -2318.0,-8901.0 -2227.0,-8901.0 -2227.0,-9868.0 -1808.0,-9868.0 -1808.0,-10195.0 -1730.0,-10195.0 -1730.0,-9891.0 -1268.0,-9891.0 -1268.0,-9893.0 -1924.0,-9893.0 -1924.0,-10593.0 -1951.0,-10593.0 -1951.0,-10622.0 -2549.0,-10622.0 -2549.0,-9881.0 -2898.0,-9881.0 -2898.0,-10838.0 -2737.0,-10838.0 -2737.0,-10150.0 -2411.0,-10150.0 -2411.0,-10948.0 -2674.0,-10948.0 -2674.0,-10903.0 -3557.0,-10903.0 -3557.0,-9921.0 -3441.0,-9921.0 -3441.0,-10756.0 -4319.0,-10756.0 -4319.0,-10503.0 -4551.0,-10503.0 -4551.0,-11235.0 -3912.0,-11235.0 -3912.0,-11643.0 -2915.0,-11643.0 -2915.0,-12510.0 -2189.0,-12510.0 -2189.0,-12768.0 -2254.0,-12768.0 -2254.0,-13368.0 -2569.0,-13368.0 -2569.0,-12585.0 -3330.0,-12585.0 -3330.0,-11979.0 -3263.0,-11979.0 -3263.0,-12928.0 -3738.0,-12928.0 -3738.0,-12386.0 -3969.0,-12386.0 -3969.0,-12107.0 -4919.0,-12107.0 -4919.0,-11458.0 -5589.0,-11458.0 -5589.0,-12328.0 -5853.0,-12328.0 -5853.0,-11370.0 -5105.0,-11370.0 -5105.0,-11735.0 -4853.0,-11735.0 -4853.0,-11864.0 -4099.0,-11864.0 -4099.0,-11837.0 -3528.0,-11837.0 -3528.0,-12527.0 -4199.0,-12527.0 -4199.0,-12384.0 -4949.0,-12384.0 -4949.0,-12081.0 -5361.0,-12081.0 -5361.0,-12057.0 -5804.0,-12057.0 -5804.0,-12607.0 -4978.0,-12607.0 -4978.0,-11908.0 -5536.0,-11908.0 -5536.0,-11365.0 -6417.0,-11365.0 -6417.0,-11569.0 -6169.0,-11569.0 -6169.0,-11761.0 -5356.0,-11761.0 -5356.0,-11445.0 -5432.0,-11445.0 -5432.0,-11523.0 -4909.0,-11523.0 -4909.0,-10807.0 -5331.0,-10807.0 -5331.0,-11600.0 -4647.0,-11600.0 -4647.0,-11775.0 -4994.0,-11775.0 -4994.0,-12241.0 -5213.0,-12241.0 -5213.0,-12381.0 -6016.0,-12381.0 -6016.0,-11948.0 -5920.0,-11948.0\" opacity=\"0.8\" /></g></g></svg>"
      ],
      "text/plain": [
       "<shapely.geometry.multilinestring.MultiLineString at 0x1147a54e0>"
      ]
     },
     "execution_count": 16,
     "metadata": {},
     "output_type": "execute_result"
    }
   ],
   "source": [
    "# ok, we're good to go:\n",
    "\n",
    "wire1 = instruction_to_coords(path_1,origin)\n",
    "wire2 = instruction_to_coords(path_2,origin)\n",
    "MultiLineString([wire1, wire2])"
   ]
  },
  {
   "cell_type": "code",
   "execution_count": 17,
   "metadata": {
    "collapsed": false
   },
   "outputs": [
    {
     "data": {
      "image/svg+xml": [
       "<svg xmlns=\"http://www.w3.org/2000/svg\" xmlns:xlink=\"http://www.w3.org/1999/xlink\" width=\"300\" height=\"300\" viewBox=\"-1243.48 -3674.48 2372.96 6492.96\" preserveAspectRatio=\"xMinYMin meet\"><g transform=\"matrix(1,0,0,-1,0,-856.0)\"><g><circle cx=\"-1003.0\" cy=\"828.0\" r=\"64.9296\" stroke=\"#555555\" stroke-width=\"21.6432\" fill=\"#66cc99\" opacity=\"0.6\" /><circle cx=\"-981.0\" cy=\"828.0\" r=\"64.9296\" stroke=\"#555555\" stroke-width=\"21.6432\" fill=\"#66cc99\" opacity=\"0.6\" /><circle cx=\"-749.0\" cy=\"801.0\" r=\"64.9296\" stroke=\"#555555\" stroke-width=\"21.6432\" fill=\"#66cc99\" opacity=\"0.6\" /><circle cx=\"-560.0\" cy=\"-2917.0\" r=\"64.9296\" stroke=\"#555555\" stroke-width=\"21.6432\" fill=\"#66cc99\" opacity=\"0.6\" /><circle cx=\"-560.0\" cy=\"-2681.0\" r=\"64.9296\" stroke=\"#555555\" stroke-width=\"21.6432\" fill=\"#66cc99\" opacity=\"0.6\" /><circle cx=\"-381.0\" cy=\"-3275.0\" r=\"64.9296\" stroke=\"#555555\" stroke-width=\"21.6432\" fill=\"#66cc99\" opacity=\"0.6\" /><circle cx=\"-297.0\" cy=\"801.0\" r=\"64.9296\" stroke=\"#555555\" stroke-width=\"21.6432\" fill=\"#66cc99\" opacity=\"0.6\" /><circle cx=\"-297.0\" cy=\"936.0\" r=\"64.9296\" stroke=\"#555555\" stroke-width=\"21.6432\" fill=\"#66cc99\" opacity=\"0.6\" /><circle cx=\"-244.0\" cy=\"-2917.0\" r=\"64.9296\" stroke=\"#555555\" stroke-width=\"21.6432\" fill=\"#66cc99\" opacity=\"0.6\" /><circle cx=\"-244.0\" cy=\"-2895.0\" r=\"64.9296\" stroke=\"#555555\" stroke-width=\"21.6432\" fill=\"#66cc99\" opacity=\"0.6\" /><circle cx=\"-244.0\" cy=\"-2325.0\" r=\"64.9296\" stroke=\"#555555\" stroke-width=\"21.6432\" fill=\"#66cc99\" opacity=\"0.6\" /><circle cx=\"-244.0\" cy=\"-2296.0\" r=\"64.9296\" stroke=\"#555555\" stroke-width=\"21.6432\" fill=\"#66cc99\" opacity=\"0.6\" /><circle cx=\"-244.0\" cy=\"-2286.0\" r=\"64.9296\" stroke=\"#555555\" stroke-width=\"21.6432\" fill=\"#66cc99\" opacity=\"0.6\" /><circle cx=\"-159.0\" cy=\"1485.0\" r=\"64.9296\" stroke=\"#555555\" stroke-width=\"21.6432\" fill=\"#66cc99\" opacity=\"0.6\" /><circle cx=\"-157.0\" cy=\"1027.0\" r=\"64.9296\" stroke=\"#555555\" stroke-width=\"21.6432\" fill=\"#66cc99\" opacity=\"0.6\" /><circle cx=\"-157.0\" cy=\"1055.0\" r=\"64.9296\" stroke=\"#555555\" stroke-width=\"21.6432\" fill=\"#66cc99\" opacity=\"0.6\" /><circle cx=\"-144.0\" cy=\"-2325.0\" r=\"64.9296\" stroke=\"#555555\" stroke-width=\"21.6432\" fill=\"#66cc99\" opacity=\"0.6\" /><circle cx=\"-144.0\" cy=\"-2296.0\" r=\"64.9296\" stroke=\"#555555\" stroke-width=\"21.6432\" fill=\"#66cc99\" opacity=\"0.6\" /><circle cx=\"-144.0\" cy=\"-2286.0\" r=\"64.9296\" stroke=\"#555555\" stroke-width=\"21.6432\" fill=\"#66cc99\" opacity=\"0.6\" /><circle cx=\"-91.0\" cy=\"2578.0\" r=\"64.9296\" stroke=\"#555555\" stroke-width=\"21.6432\" fill=\"#66cc99\" opacity=\"0.6\" /><circle cx=\"-37.0\" cy=\"1027.0\" r=\"64.9296\" stroke=\"#555555\" stroke-width=\"21.6432\" fill=\"#66cc99\" opacity=\"0.6\" /><circle cx=\"-37.0\" cy=\"1055.0\" r=\"64.9296\" stroke=\"#555555\" stroke-width=\"21.6432\" fill=\"#66cc99\" opacity=\"0.6\" /><circle cx=\"-37.0\" cy=\"1695.0\" r=\"64.9296\" stroke=\"#555555\" stroke-width=\"21.6432\" fill=\"#66cc99\" opacity=\"0.6\" /><circle cx=\"-26.0\" cy=\"-2296.0\" r=\"64.9296\" stroke=\"#555555\" stroke-width=\"21.6432\" fill=\"#66cc99\" opacity=\"0.6\" /><circle cx=\"-26.0\" cy=\"-2286.0\" r=\"64.9296\" stroke=\"#555555\" stroke-width=\"21.6432\" fill=\"#66cc99\" opacity=\"0.6\" /><circle cx=\"-14.0\" cy=\"-2356.0\" r=\"64.9296\" stroke=\"#555555\" stroke-width=\"21.6432\" fill=\"#66cc99\" opacity=\"0.6\" /><circle cx=\"-14.0\" cy=\"-2323.0\" r=\"64.9296\" stroke=\"#555555\" stroke-width=\"21.6432\" fill=\"#66cc99\" opacity=\"0.6\" /><circle cx=\"-14.0\" cy=\"-2131.0\" r=\"64.9296\" stroke=\"#555555\" stroke-width=\"21.6432\" fill=\"#66cc99\" opacity=\"0.6\" /><circle cx=\"0.0\" cy=\"0.0\" r=\"64.9296\" stroke=\"#555555\" stroke-width=\"21.6432\" fill=\"#66cc99\" opacity=\"0.6\" /><circle cx=\"38.0\" cy=\"-2323.0\" r=\"64.9296\" stroke=\"#555555\" stroke-width=\"21.6432\" fill=\"#66cc99\" opacity=\"0.6\" /><circle cx=\"38.0\" cy=\"-2131.0\" r=\"64.9296\" stroke=\"#555555\" stroke-width=\"21.6432\" fill=\"#66cc99\" opacity=\"0.6\" /><circle cx=\"38.0\" cy=\"-1990.0\" r=\"64.9296\" stroke=\"#555555\" stroke-width=\"21.6432\" fill=\"#66cc99\" opacity=\"0.6\" /><circle cx=\"64.0\" cy=\"-3217.0\" r=\"64.9296\" stroke=\"#555555\" stroke-width=\"21.6432\" fill=\"#66cc99\" opacity=\"0.6\" /><circle cx=\"64.0\" cy=\"-3180.0\" r=\"64.9296\" stroke=\"#555555\" stroke-width=\"21.6432\" fill=\"#66cc99\" opacity=\"0.6\" /><circle cx=\"128.0\" cy=\"-3101.0\" r=\"64.9296\" stroke=\"#555555\" stroke-width=\"21.6432\" fill=\"#66cc99\" opacity=\"0.6\" /><circle cx=\"128.0\" cy=\"-2948.0\" r=\"64.9296\" stroke=\"#555555\" stroke-width=\"21.6432\" fill=\"#66cc99\" opacity=\"0.6\" /><circle cx=\"128.0\" cy=\"-2895.0\" r=\"64.9296\" stroke=\"#555555\" stroke-width=\"21.6432\" fill=\"#66cc99\" opacity=\"0.6\" /><circle cx=\"128.0\" cy=\"-2856.0\" r=\"64.9296\" stroke=\"#555555\" stroke-width=\"21.6432\" fill=\"#66cc99\" opacity=\"0.6\" /><circle cx=\"140.0\" cy=\"1763.0\" r=\"64.9296\" stroke=\"#555555\" stroke-width=\"21.6432\" fill=\"#66cc99\" opacity=\"0.6\" /><circle cx=\"140.0\" cy=\"2328.0\" r=\"64.9296\" stroke=\"#555555\" stroke-width=\"21.6432\" fill=\"#66cc99\" opacity=\"0.6\" /><circle cx=\"140.0\" cy=\"2520.0\" r=\"64.9296\" stroke=\"#555555\" stroke-width=\"21.6432\" fill=\"#66cc99\" opacity=\"0.6\" /><circle cx=\"155.0\" cy=\"-1990.0\" r=\"64.9296\" stroke=\"#555555\" stroke-width=\"21.6432\" fill=\"#66cc99\" opacity=\"0.6\" /><circle cx=\"155.0\" cy=\"-1930.0\" r=\"64.9296\" stroke=\"#555555\" stroke-width=\"21.6432\" fill=\"#66cc99\" opacity=\"0.6\" /><circle cx=\"172.0\" cy=\"-2131.0\" r=\"64.9296\" stroke=\"#555555\" stroke-width=\"21.6432\" fill=\"#66cc99\" opacity=\"0.6\" /><circle cx=\"479.0\" cy=\"-1968.0\" r=\"64.9296\" stroke=\"#555555\" stroke-width=\"21.6432\" fill=\"#66cc99\" opacity=\"0.6\" /><circle cx=\"570.0\" cy=\"-3101.0\" r=\"64.9296\" stroke=\"#555555\" stroke-width=\"21.6432\" fill=\"#66cc99\" opacity=\"0.6\" /><circle cx=\"617.0\" cy=\"-2356.0\" r=\"64.9296\" stroke=\"#555555\" stroke-width=\"21.6432\" fill=\"#66cc99\" opacity=\"0.6\" /><circle cx=\"889.0\" cy=\"-3434.0\" r=\"64.9296\" stroke=\"#555555\" stroke-width=\"21.6432\" fill=\"#66cc99\" opacity=\"0.6\" /></g></g></svg>"
      ],
      "text/plain": [
       "<shapely.geometry.multipoint.MultiPoint at 0x114751518>"
      ]
     },
     "execution_count": 17,
     "metadata": {},
     "output_type": "execute_result"
    }
   ],
   "source": [
    "LineString(wire1).intersection(LineString(wire2))"
   ]
  },
  {
   "cell_type": "code",
   "execution_count": 18,
   "metadata": {
    "collapsed": false
   },
   "outputs": [
    {
     "data": {
      "text/plain": [
       "1064.0"
      ]
     },
     "execution_count": 18,
     "metadata": {},
     "output_type": "execute_result"
    }
   ],
   "source": [
    "intersections = LineString(wire1).intersection(LineString(wire2))\n",
    "get_min_manhattan(intersections)"
   ]
  },
  {
   "cell_type": "markdown",
   "metadata": {
    "collapsed": true
   },
   "source": [
    "## --- Part Two ---\n",
    "It turns out that this circuit is very timing-sensitive; you actually need to minimize the signal delay.\n",
    "\n",
    "To do this, calculate the number of steps each wire takes to reach each intersection; choose the intersection where the sum of both wires' steps is lowest. If a wire visits a position on the grid multiple times, use the steps value from the first time it visits that position when calculating the total value of a specific intersection.\n",
    "\n",
    "The number of steps a wire takes is the total number of grid squares the wire has entered to get to that location, including the intersection being considered. Again consider the example from above:\n",
    "\n",
    "...........\n",
    ".+-----+...\n",
    ".|.....|...\n",
    ".|..+--X-+.\n",
    ".|..|..|.|.\n",
    ".|.-X--+.|.\n",
    ".|..|....|.\n",
    ".|.......|.\n",
    ".o-------+.\n",
    "...........\n",
    "In the above example, the intersection closest to the central port is reached after 8+5+5+2 = 20 steps by the first wire and 7+6+4+3 = 20 steps by the second wire for a total of 20+20 = 40 steps.\n",
    "\n",
    "However, the top-right intersection is better: the first wire takes only 8+5+2 = 15 and the second wire takes only 7+6+2 = 15, a total of 15+15 = 30 steps.\n",
    "\n",
    "Here are the best steps for the extra examples from above:\n",
    "\n",
    "R75,D30,R83,U83,L12,D49,R71,U7,L72\n",
    "U62,R66,U55,R34,D71,R55,D58,R83 = 610 steps\n",
    "R98,U47,R26,D63,R33,U87,L62,D20,R33,U53,R51\n",
    "U98,R91,D20,R16,D67,R40,U7,R15,U6,R7 = 410 steps\n",
    "What is the fewest combined steps the wires must take to reach an intersection?"
   ]
  },
  {
   "cell_type": "code",
   "execution_count": 26,
   "metadata": {
    "collapsed": false
   },
   "outputs": [
    {
     "name": "stdout",
     "output_type": "stream",
     "text": [
      "MULTIPOINT (-1003 828, -981 828, -749 801, -560 -2917, -560 -2681, -381 -3275, -297 801, -297 936, -244 -2917, -244 -2895, -244 -2325, -244 -2296, -244 -2286, -159 1485, -157 1027, -157 1055, -144 -2325, -144 -2296, -144 -2286, -91 2578, -37 1027, -37 1055, -37 1695, -26 -2296, -26 -2286, -14 -2356, -14 -2323, -14 -2131, 0 0, 38 -2323, 38 -2131, 38 -1990, 64 -3217, 64 -3180, 128 -3101, 128 -2948, 128 -2895, 128 -2856, 140 1763, 140 2328, 140 2520, 155 -1990, 155 -1930, 172 -2131, 479 -1968, 570 -3101, 617 -2356, 889 -3434)\n"
     ]
    }
   ],
   "source": [
    "print(intersections)"
   ]
  },
  {
   "cell_type": "code",
   "execution_count": 23,
   "metadata": {
    "collapsed": false
   },
   "outputs": [
    {
     "data": {
      "text/plain": [
       "153282.0"
      ]
     },
     "execution_count": 23,
     "metadata": {},
     "output_type": "execute_result"
    }
   ],
   "source": [
    "LineString(wire1).length"
   ]
  },
  {
   "cell_type": "code",
   "execution_count": 24,
   "metadata": {
    "collapsed": false
   },
   "outputs": [
    {
     "data": {
      "text/plain": [
       "149566.0"
      ]
     },
     "execution_count": 24,
     "metadata": {},
     "output_type": "execute_result"
    }
   ],
   "source": [
    "LineString(wire2).length"
   ]
  },
  {
   "cell_type": "code",
   "execution_count": 54,
   "metadata": {
    "collapsed": false
   },
   "outputs": [
    {
     "name": "stdout",
     "output_type": "stream",
     "text": [
      "MULTIPOINT (0 0, 3 3, 6 5)\n"
     ]
    }
   ],
   "source": [
    "instruction_example = ['R8','U5','L5','D3']\n",
    "instruction_example2 = ['U7','R6','D4','L4']\n",
    "\n",
    "# Create two lines\n",
    "# ex_line_1 = LineString([(0, 0), (8, 0), (8,5), (3,5), (3,2)])\n",
    "# ex_line_2 = LineString([(0, 0), (0, 7), (6,7), (6,3), (2,3)])\n",
    "ex_line_1 = instruction_to_coords(instruction_example, origin)\n",
    "ex_line_2 = instruction_to_coords(instruction_example2, origin)\n",
    "example_intersections = LineString(ex_line_1).intersection(LineString(ex_line_2))\n",
    "print(example_intersections)"
   ]
  },
  {
   "cell_type": "code",
   "execution_count": 43,
   "metadata": {
    "collapsed": false
   },
   "outputs": [
    {
     "data": {
      "text/plain": [
       "(3.0, 3.0)"
      ]
     },
     "execution_count": 43,
     "metadata": {},
     "output_type": "execute_result"
    }
   ],
   "source": [
    "first_intersect = (example_intersections[1].x,example_intersections[1].y)\n",
    "first_intersect"
   ]
  },
  {
   "cell_type": "code",
   "execution_count": 74,
   "metadata": {
    "collapsed": false
   },
   "outputs": [
    {
     "data": {
      "image/svg+xml": [
       "<svg xmlns=\"http://www.w3.org/2000/svg\" xmlns:xlink=\"http://www.w3.org/1999/xlink\" width=\"100.0\" height=\"100.0\" viewBox=\"-1.0 -1.0 2.0 2.0\" preserveAspectRatio=\"xMinYMin meet\"><g transform=\"matrix(1,0,0,-1,0,0.0)\"><circle cx=\"0.0\" cy=\"0.0\" r=\"0.06\" stroke=\"#555555\" stroke-width=\"0.02\" fill=\"#66cc99\" opacity=\"0.6\" /></g></svg>"
      ],
      "text/plain": [
       "<shapely.geometry.point.Point at 0x11604c438>"
      ]
     },
     "execution_count": 74,
     "metadata": {},
     "output_type": "execute_result"
    }
   ],
   "source": [
    "example_intersections[0]"
   ]
  },
  {
   "cell_type": "code",
   "execution_count": 75,
   "metadata": {
    "collapsed": false
   },
   "outputs": [
    {
     "data": {
      "text/plain": [
       "20.0"
      ]
     },
     "execution_count": 75,
     "metadata": {},
     "output_type": "execute_result"
    }
   ],
   "source": [
    "LineString(ex_line_1).project(example_intersections[1])"
   ]
  },
  {
   "cell_type": "code",
   "execution_count": 51,
   "metadata": {
    "collapsed": false
   },
   "outputs": [
    {
     "data": {
      "text/plain": [
       "20.0"
      ]
     },
     "execution_count": 51,
     "metadata": {},
     "output_type": "execute_result"
    }
   ],
   "source": [
    "LineString(ex_line_2).project(example_intersections[1])"
   ]
  },
  {
   "cell_type": "code",
   "execution_count": 52,
   "metadata": {
    "collapsed": false
   },
   "outputs": [
    {
     "data": {
      "text/plain": [
       "15.0"
      ]
     },
     "execution_count": 52,
     "metadata": {},
     "output_type": "execute_result"
    }
   ],
   "source": [
    "LineString(ex_line_1).project(example_intersections[2])"
   ]
  },
  {
   "cell_type": "code",
   "execution_count": 53,
   "metadata": {
    "collapsed": false
   },
   "outputs": [
    {
     "data": {
      "text/plain": [
       "15.0"
      ]
     },
     "execution_count": 53,
     "metadata": {},
     "output_type": "execute_result"
    }
   ],
   "source": [
    "LineString(ex_line_2).project(example_intersections[2])"
   ]
  },
  {
   "cell_type": "code",
   "execution_count": 88,
   "metadata": {
    "collapsed": false
   },
   "outputs": [
    {
     "name": "stdout",
     "output_type": "stream",
     "text": [
      "0\n",
      "1\n",
      "2\n",
      "3\n",
      "4\n"
     ]
    }
   ],
   "source": [
    "intersections = LineString(line1).intersection(LineString(line2))\n",
    "len(intersections)\n",
    "for i in range(len(intersections)):\n",
    "    print(i)"
   ]
  },
  {
   "cell_type": "code",
   "execution_count": 95,
   "metadata": {
    "collapsed": true
   },
   "outputs": [],
   "source": [
    "def get_min_circuit_length(line1, line2):\n",
    "    intersections = LineString(line1).intersection(LineString(line2))\n",
    "    output = []\n",
    "    for i in range(len(intersections)):\n",
    "        line_1_result = LineString(line1).project(intersections[i])\n",
    "        line_2_result = LineString(line2).project(intersections[i])\n",
    "        result = line_1_result + line_2_result\n",
    "        if result > 0:\n",
    "            output.append(result)\n",
    "    return min(output)"
   ]
  },
  {
   "cell_type": "code",
   "execution_count": 96,
   "metadata": {
    "collapsed": false
   },
   "outputs": [
    {
     "data": {
      "text/plain": [
       "30.0"
      ]
     },
     "execution_count": 96,
     "metadata": {},
     "output_type": "execute_result"
    }
   ],
   "source": [
    "get_min_circuit_length(ex_line_1,ex_line_2)"
   ]
  },
  {
   "cell_type": "code",
   "execution_count": 99,
   "metadata": {
    "collapsed": false
   },
   "outputs": [
    {
     "data": {
      "text/plain": [
       "610.0"
      ]
     },
     "execution_count": 99,
     "metadata": {},
     "output_type": "execute_result"
    }
   ],
   "source": [
    "# additional examples: first should be 610, second 410\n",
    "get_min_circuit_length(line1,line2)"
   ]
  },
  {
   "cell_type": "code",
   "execution_count": 100,
   "metadata": {
    "collapsed": false
   },
   "outputs": [
    {
     "data": {
      "text/plain": [
       "410.0"
      ]
     },
     "execution_count": 100,
     "metadata": {},
     "output_type": "execute_result"
    }
   ],
   "source": [
    "get_min_circuit_length(line3,line4)"
   ]
  },
  {
   "cell_type": "code",
   "execution_count": 102,
   "metadata": {
    "collapsed": false
   },
   "outputs": [
    {
     "data": {
      "text/plain": [
       "25676.0"
      ]
     },
     "execution_count": 102,
     "metadata": {},
     "output_type": "execute_result"
    }
   ],
   "source": [
    "# let's calculate minimum circuit length for the test input:\n",
    "get_min_circuit_length(wire1,wire2)"
   ]
  },
  {
   "cell_type": "code",
   "execution_count": null,
   "metadata": {
    "collapsed": true
   },
   "outputs": [],
   "source": []
  }
 ],
 "metadata": {
  "anaconda-cloud": {},
  "kernelspec": {
   "display_name": "Python [insight]",
   "language": "python",
   "name": "Python [insight]"
  },
  "language_info": {
   "codemirror_mode": {
    "name": "ipython",
    "version": 3
   },
   "file_extension": ".py",
   "mimetype": "text/x-python",
   "name": "python",
   "nbconvert_exporter": "python",
   "pygments_lexer": "ipython3",
   "version": "3.6.2"
  }
 },
 "nbformat": 4,
 "nbformat_minor": 0
}
