{
 "cells": [
  {
   "cell_type": "markdown",
   "metadata": {},
   "source": [
    "## --- Day 4: Secure Container ---\n",
    "You arrive at the Venus fuel depot only to discover it's protected by a password. The Elves had written the password on a sticky note, but someone threw it out.\n",
    "\n",
    "However, they do remember a few key facts about the password:\n",
    "\n",
    "It is a six-digit number.\n",
    "The value is within the range given in your puzzle input.\n",
    "Two adjacent digits are the same (like 22 in 122345).\n",
    "Going from left to right, the digits never decrease; they only ever increase or stay the same (like 111123 or 135679).\n",
    "Other than the range rule, the following are true:\n",
    "\n",
    "111111 meets these criteria (double 11, never decreases).\n",
    "223450 does not meet these criteria (decreasing pair of digits 50).\n",
    "123789 does not meet these criteria (no double).\n",
    "How many different passwords within the range given in your puzzle input meet these criteria?\n",
    "\n",
    "Your puzzle input is 265275-781584."
   ]
  },
  {
   "cell_type": "code",
   "execution_count": 232,
   "metadata": {
    "collapsed": false
   },
   "outputs": [],
   "source": [
    "# check for doubles in input:\n",
    "\n",
    "def double_present(number):\n",
    "    num_string = str(number)\n",
    "    result = False\n",
    "    for i in range(len(num_string)-1):\n",
    "        if num_string[i] == num_string[i+1]:\n",
    "#             print('match')\n",
    "            result = True\n",
    "            break\n",
    "#         elif num_string[i] != num_string[i+1]:\n",
    "#             print('no match')\n",
    "    return result"
   ]
  },
  {
   "cell_type": "code",
   "execution_count": 96,
   "metadata": {
    "collapsed": false
   },
   "outputs": [
    {
     "data": {
      "text/plain": [
       "True"
      ]
     },
     "execution_count": 96,
     "metadata": {},
     "output_type": "execute_result"
    }
   ],
   "source": [
    "decrease_not_present(123789)"
   ]
  },
  {
   "cell_type": "code",
   "execution_count": 83,
   "metadata": {
    "collapsed": false
   },
   "outputs": [
    {
     "data": {
      "text/plain": [
       "True"
      ]
     },
     "execution_count": 83,
     "metadata": {},
     "output_type": "execute_result"
    }
   ],
   "source": [
    "double_present(123789)"
   ]
  },
  {
   "cell_type": "code",
   "execution_count": 93,
   "metadata": {
    "collapsed": false
   },
   "outputs": [],
   "source": [
    "# check for any digits decreasing:\n",
    "\n",
    "def decrease_not_present(number):\n",
    "    num_string = str(number)\n",
    "    result = True\n",
    "    for i in range(len(num_string)-1):\n",
    "        if num_string[i] > num_string[i+1]:\n",
    "            result = False\n",
    "            break\n",
    "    return result"
   ]
  },
  {
   "cell_type": "code",
   "execution_count": null,
   "metadata": {
    "collapsed": false
   },
   "outputs": [],
   "source": []
  },
  {
   "cell_type": "code",
   "execution_count": 231,
   "metadata": {
    "collapsed": false
   },
   "outputs": [],
   "source": [
    "# function to get list of passwords:\n",
    "\n",
    "def get_passwords(start, stop):\n",
    "    result = []\n",
    "    for i in range(start,stop):\n",
    "        if double_present(i) & decrease_not_present(i):\n",
    "            result.append(i)\n",
    "    return result"
   ]
  },
  {
   "cell_type": "code",
   "execution_count": 109,
   "metadata": {
    "collapsed": false
   },
   "outputs": [],
   "source": [
    "result = get_passwords(265275,781584)"
   ]
  },
  {
   "cell_type": "code",
   "execution_count": 110,
   "metadata": {
    "collapsed": false
   },
   "outputs": [
    {
     "data": {
      "text/plain": [
       "960"
      ]
     },
     "execution_count": 110,
     "metadata": {},
     "output_type": "execute_result"
    }
   ],
   "source": [
    "len(result)"
   ]
  },
  {
   "cell_type": "markdown",
   "metadata": {},
   "source": [
    "## --- Part Two ---\n",
    "An Elf just remembered one more important detail: the two adjacent matching digits are not part of a larger group of matching digits.\n",
    "\n",
    "Given this additional criterion, but still ignoring the range rule, the following are now true:\n",
    "\n",
    "112233 meets these criteria because the digits never decrease and all repeated digits are exactly two digits long.\n",
    "123444 no longer meets the criteria (the repeated 44 is part of a larger group of 444).\n",
    "111122 meets the criteria (even though 1 is repeated more than twice, it still contains a double 22).\n",
    "How many different passwords within the range given in your puzzle input meet all of the criteria?\n",
    "\n",
    "Your puzzle input is still 265275-781584."
   ]
  },
  {
   "cell_type": "code",
   "execution_count": 218,
   "metadata": {
    "collapsed": false
   },
   "outputs": [],
   "source": [
    "# # check for doubles in input, now not part of larger group:\n",
    "\n",
    "# def double_present(number):\n",
    "#     num_string = str(number)\n",
    "#     result = False\n",
    "#     for i in range(len(num_string)-2):\n",
    "#         if num_string[i] == num_string[i+1] and num_string[i] != num_string[i+2]:\n",
    "# #             print('match')\n",
    "#             result = True\n",
    "#             break\n",
    "#         # check the last two characters:\n",
    "#         if num_string[-1] == num_string[-2] and num_string[-2] != num_string[-3]:\n",
    "#             result = True\n",
    "#             break\n",
    "#     return result"
   ]
  },
  {
   "cell_type": "code",
   "execution_count": 156,
   "metadata": {
    "collapsed": false
   },
   "outputs": [
    {
     "data": {
      "text/plain": [
       "True"
      ]
     },
     "execution_count": 156,
     "metadata": {},
     "output_type": "execute_result"
    }
   ],
   "source": [
    "digit = 266667\n",
    "double_present(digit)"
   ]
  },
  {
   "cell_type": "code",
   "execution_count": 168,
   "metadata": {
    "collapsed": false
   },
   "outputs": [
    {
     "name": "stdout",
     "output_type": "stream",
     "text": [
      "6\n",
      "False\n",
      "False\n"
     ]
    }
   ],
   "source": [
    "num_string = str(digit)\n",
    "i = 2\n",
    "print(num_string[i])\n",
    "print(num_string[i] == num_string[i+1] and num_string[i] != num_string[i+2])\n",
    "print(num_string[-1] == num_string[-2] and num_string[-2] != num_string[-3])"
   ]
  },
  {
   "cell_type": "code",
   "execution_count": 171,
   "metadata": {
    "collapsed": false
   },
   "outputs": [
    {
     "data": {
      "text/plain": [
       "['2', '6', '6', '6', '6', '7']"
      ]
     },
     "execution_count": 171,
     "metadata": {},
     "output_type": "execute_result"
    }
   ],
   "source": [
    "list(str(266667))"
   ]
  },
  {
   "cell_type": "code",
   "execution_count": 187,
   "metadata": {
    "collapsed": false
   },
   "outputs": [
    {
     "data": {
      "text/plain": [
       "[['2', '6'], ['6', '6'], ['6', '6'], ['6', '6'], ['6', '7']]"
      ]
     },
     "execution_count": 187,
     "metadata": {},
     "output_type": "execute_result"
    }
   ],
   "source": [
    "container"
   ]
  },
  {
   "cell_type": "code",
   "execution_count": 260,
   "metadata": {
    "collapsed": true
   },
   "outputs": [],
   "source": [
    "# check for doubles in input, now not part of larger group:\n",
    "\n",
    "def double_present_update(number):\n",
    "    lis = list(str(number))\n",
    "    container = []\n",
    "    for x, y in zip(lis, lis[1:]):\n",
    "        container.append([x,y])\n",
    "#     num_string = str(number)\n",
    "    result = False\n",
    "    for i in range(len(container)):\n",
    "        if i == 0: # first comparison, check w/in + position 1\n",
    "            if container[i][0] == container[i][1] and container[i][1] != container[i+1][1]:\n",
    "                result = True\n",
    "                break\n",
    "        if i in [1,2,3]: # check middle positions\n",
    "            if container[i][0] == container[i][1] and container[i][0] != container[i-1][1] and container[i][1] != container[i+1][0]:\n",
    "                result = True\n",
    "                break\n",
    "        elif i == 4: # check last position\n",
    "            if container[i][0] == container[i][1] and container[i][0] != container[i-1][0]:\n",
    "                result = True\n",
    "                break\n",
    "            \n",
    "#     for i in range(len(num_string)-2):\n",
    "#         if num_string[i] == num_string[i+1] and num_string[i] != num_string[i+2]:\n",
    "# #             print('match')\n",
    "#             result = True\n",
    "#             break\n",
    "#         # check the last two characters:\n",
    "#         if num_string[-1] == num_string[-2] and num_string[-2] != num_string[-3]:\n",
    "#             result = True\n",
    "#             break\n",
    "    return result"
   ]
  },
  {
   "cell_type": "code",
   "execution_count": 259,
   "metadata": {
    "collapsed": false
   },
   "outputs": [],
   "source": [
    "# function to get list of passwords:\n",
    "\n",
    "def get_passwords_update(start, stop):\n",
    "    result = []\n",
    "    for i in range(start,stop):\n",
    "        if double_present_update(i) & decrease_not_present(i):\n",
    "            result.append(i)\n",
    "    return result"
   ]
  },
  {
   "cell_type": "code",
   "execution_count": 263,
   "metadata": {
    "collapsed": false
   },
   "outputs": [
    {
     "data": {
      "text/plain": [
       "446"
      ]
     },
     "execution_count": 263,
     "metadata": {},
     "output_type": "execute_result"
    }
   ],
   "source": [
    "result = get_passwords_update(265275,781584)\n",
    "len(result) # 446 is too low"
   ]
  },
  {
   "cell_type": "code",
   "execution_count": 264,
   "metadata": {
    "collapsed": false
   },
   "outputs": [
    {
     "data": {
      "text/plain": [
       "[266677,\n",
       " 266688,\n",
       " 266699,\n",
       " 266788,\n",
       " 266799,\n",
       " 266899,\n",
       " 267788,\n",
       " 267799,\n",
       " 267899,\n",
       " 268899]"
      ]
     },
     "execution_count": 264,
     "metadata": {},
     "output_type": "execute_result"
    }
   ],
   "source": [
    "result[0:10]"
   ]
  },
  {
   "cell_type": "code",
   "execution_count": 258,
   "metadata": {
    "collapsed": false
   },
   "outputs": [
    {
     "data": {
      "text/plain": [
       "True"
      ]
     },
     "execution_count": 258,
     "metadata": {},
     "output_type": "execute_result"
    }
   ],
   "source": [
    "double_present_update(112233)"
   ]
  },
  {
   "cell_type": "code",
   "execution_count": 257,
   "metadata": {
    "collapsed": false
   },
   "outputs": [
    {
     "data": {
      "text/plain": [
       "True"
      ]
     },
     "execution_count": 257,
     "metadata": {},
     "output_type": "execute_result"
    }
   ],
   "source": [
    "double_present(112233)"
   ]
  },
  {
   "cell_type": "code",
   "execution_count": 241,
   "metadata": {
    "collapsed": true
   },
   "outputs": [],
   "source": [
    "lis = list(str(112233))\n",
    "test = []\n",
    "for x, y in zip(lis, lis[1:]):\n",
    "    test.append([x,y])"
   ]
  },
  {
   "cell_type": "code",
   "execution_count": 242,
   "metadata": {
    "collapsed": false
   },
   "outputs": [
    {
     "data": {
      "text/plain": [
       "[['1', '1'], ['1', '2'], ['2', '2'], ['2', '3'], ['3', '3']]"
      ]
     },
     "execution_count": 242,
     "metadata": {},
     "output_type": "execute_result"
    }
   ],
   "source": [
    "test"
   ]
  },
  {
   "cell_type": "code",
   "execution_count": 249,
   "metadata": {
    "collapsed": false
   },
   "outputs": [
    {
     "data": {
      "text/plain": [
       "False"
      ]
     },
     "execution_count": 249,
     "metadata": {},
     "output_type": "execute_result"
    }
   ],
   "source": [
    "test[0][0] == test[0][1] and test[0][1] != test[0+1][0]"
   ]
  },
  {
   "cell_type": "code",
   "execution_count": 250,
   "metadata": {
    "collapsed": false
   },
   "outputs": [
    {
     "data": {
      "text/plain": [
       "True"
      ]
     },
     "execution_count": 250,
     "metadata": {},
     "output_type": "execute_result"
    }
   ],
   "source": [
    "test[0][0] == test[0][1] and test[0][1] != test[0+1][1]"
   ]
  },
  {
   "cell_type": "code",
   "execution_count": 252,
   "metadata": {
    "collapsed": false
   },
   "outputs": [
    {
     "data": {
      "text/plain": [
       "True"
      ]
     },
     "execution_count": 252,
     "metadata": {},
     "output_type": "execute_result"
    }
   ],
   "source": [
    "test[4][0] == test[4][1] and test[4][0] != test[4-1][0]"
   ]
  },
  {
   "cell_type": "code",
   "execution_count": null,
   "metadata": {
    "collapsed": true
   },
   "outputs": [],
   "source": []
  }
 ],
 "metadata": {
  "anaconda-cloud": {},
  "kernelspec": {
   "display_name": "Python [insight]",
   "language": "python",
   "name": "Python [insight]"
  },
  "language_info": {
   "codemirror_mode": {
    "name": "ipython",
    "version": 3
   },
   "file_extension": ".py",
   "mimetype": "text/x-python",
   "name": "python",
   "nbconvert_exporter": "python",
   "pygments_lexer": "ipython3",
   "version": "3.6.2"
  }
 },
 "nbformat": 4,
 "nbformat_minor": 0
}
