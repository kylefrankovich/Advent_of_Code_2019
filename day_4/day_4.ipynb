{
 "cells": [
  {
   "cell_type": "markdown",
   "metadata": {},
   "source": [
    "## --- Day 4: Secure Container ---\n",
    "You arrive at the Venus fuel depot only to discover it's protected by a password. The Elves had written the password on a sticky note, but someone threw it out.\n",
    "\n",
    "However, they do remember a few key facts about the password:\n",
    "\n",
    "It is a six-digit number.\n",
    "The value is within the range given in your puzzle input.\n",
    "Two adjacent digits are the same (like 22 in 122345).\n",
    "Going from left to right, the digits never decrease; they only ever increase or stay the same (like 111123 or 135679).\n",
    "Other than the range rule, the following are true:\n",
    "\n",
    "111111 meets these criteria (double 11, never decreases).\n",
    "223450 does not meet these criteria (decreasing pair of digits 50).\n",
    "123789 does not meet these criteria (no double).\n",
    "How many different passwords within the range given in your puzzle input meet these criteria?\n",
    "\n",
    "Your puzzle input is 265275-781584."
   ]
  },
  {
   "cell_type": "code",
   "execution_count": 232,
   "metadata": {
    "collapsed": false
   },
   "outputs": [],
   "source": [
    "# check for doubles in input:\n",
    "\n",
    "def double_present(number):\n",
    "    num_string = str(number)\n",
    "    result = False\n",
    "    for i in range(len(num_string)-1):\n",
    "        if num_string[i] == num_string[i+1]:\n",
    "#             print('match')\n",
    "            result = True\n",
    "            break\n",
    "#         elif num_string[i] != num_string[i+1]:\n",
    "#             print('no match')\n",
    "    return result"
   ]
  },
  {
   "cell_type": "code",
   "execution_count": 96,
   "metadata": {
    "collapsed": false
   },
   "outputs": [
    {
     "data": {
      "text/plain": [
       "True"
      ]
     },
     "execution_count": 96,
     "metadata": {},
     "output_type": "execute_result"
    }
   ],
   "source": [
    "decrease_not_present(123789)"
   ]
  },
  {
   "cell_type": "code",
   "execution_count": 83,
   "metadata": {
    "collapsed": false
   },
   "outputs": [
    {
     "data": {
      "text/plain": [
       "True"
      ]
     },
     "execution_count": 83,
     "metadata": {},
     "output_type": "execute_result"
    }
   ],
   "source": [
    "double_present(123789)"
   ]
  },
  {
   "cell_type": "code",
   "execution_count": 93,
   "metadata": {
    "collapsed": false
   },
   "outputs": [],
   "source": [
    "# check for any digits decreasing:\n",
    "\n",
    "def decrease_not_present(number):\n",
    "    num_string = str(number)\n",
    "    result = True\n",
    "    for i in range(len(num_string)-1):\n",
    "        if num_string[i] > num_string[i+1]:\n",
    "            result = False\n",
    "            break\n",
    "    return result"
   ]
  },
  {
   "cell_type": "code",
   "execution_count": 286,
   "metadata": {
    "collapsed": false
   },
   "outputs": [
    {
     "data": {
      "text/plain": [
       "True"
      ]
     },
     "execution_count": 286,
     "metadata": {},
     "output_type": "execute_result"
    }
   ],
   "source": [
    "decrease_not_present(225668)\n",
    "double_present_update(225668)"
   ]
  },
  {
   "cell_type": "code",
   "execution_count": 231,
   "metadata": {
    "collapsed": false
   },
   "outputs": [],
   "source": [
    "# function to get list of passwords:\n",
    "\n",
    "def get_passwords(start, stop):\n",
    "    result = []\n",
    "    for i in range(start,stop):\n",
    "        if double_present(i) & decrease_not_present(i):\n",
    "            result.append(i)\n",
    "    return result"
   ]
  },
  {
   "cell_type": "code",
   "execution_count": 109,
   "metadata": {
    "collapsed": false
   },
   "outputs": [],
   "source": [
    "result = get_passwords(265275,781584)"
   ]
  },
  {
   "cell_type": "code",
   "execution_count": 110,
   "metadata": {
    "collapsed": false
   },
   "outputs": [
    {
     "data": {
      "text/plain": [
       "960"
      ]
     },
     "execution_count": 110,
     "metadata": {},
     "output_type": "execute_result"
    }
   ],
   "source": [
    "len(result) # 960 correct solution"
   ]
  },
  {
   "cell_type": "markdown",
   "metadata": {},
   "source": [
    "## --- Part Two ---\n",
    "An Elf just remembered one more important detail: the two adjacent matching digits are not part of a larger group of matching digits.\n",
    "\n",
    "Given this additional criterion, but still ignoring the range rule, the following are now true:\n",
    "\n",
    "112233 meets these criteria because the digits never decrease and all repeated digits are exactly two digits long.\n",
    "123444 no longer meets the criteria (the repeated 44 is part of a larger group of 444).\n",
    "111122 meets the criteria (even though 1 is repeated more than twice, it still contains a double 22).\n",
    "How many different passwords within the range given in your puzzle input meet all of the criteria?\n",
    "\n",
    "Your puzzle input is still 265275-781584."
   ]
  },
  {
   "cell_type": "code",
   "execution_count": 218,
   "metadata": {
    "collapsed": false
   },
   "outputs": [],
   "source": [
    "# # check for doubles in input, now not part of larger group:\n",
    "\n",
    "# def double_present(number):\n",
    "#     num_string = str(number)\n",
    "#     result = False\n",
    "#     for i in range(len(num_string)-2):\n",
    "#         if num_string[i] == num_string[i+1] and num_string[i] != num_string[i+2]:\n",
    "# #             print('match')\n",
    "#             result = True\n",
    "#             break\n",
    "#         # check the last two characters:\n",
    "#         if num_string[-1] == num_string[-2] and num_string[-2] != num_string[-3]:\n",
    "#             result = True\n",
    "#             break\n",
    "#     return result"
   ]
  },
  {
   "cell_type": "code",
   "execution_count": 156,
   "metadata": {
    "collapsed": false
   },
   "outputs": [
    {
     "data": {
      "text/plain": [
       "True"
      ]
     },
     "execution_count": 156,
     "metadata": {},
     "output_type": "execute_result"
    }
   ],
   "source": [
    "digit = 266667\n",
    "double_present(digit)"
   ]
  },
  {
   "cell_type": "code",
   "execution_count": 168,
   "metadata": {
    "collapsed": false
   },
   "outputs": [
    {
     "name": "stdout",
     "output_type": "stream",
     "text": [
      "6\n",
      "False\n",
      "False\n"
     ]
    }
   ],
   "source": [
    "num_string = str(digit)\n",
    "i = 2\n",
    "print(num_string[i])\n",
    "print(num_string[i] == num_string[i+1] and num_string[i] != num_string[i+2])\n",
    "print(num_string[-1] == num_string[-2] and num_string[-2] != num_string[-3])"
   ]
  },
  {
   "cell_type": "code",
   "execution_count": 171,
   "metadata": {
    "collapsed": false
   },
   "outputs": [
    {
     "data": {
      "text/plain": [
       "['2', '6', '6', '6', '6', '7']"
      ]
     },
     "execution_count": 171,
     "metadata": {},
     "output_type": "execute_result"
    }
   ],
   "source": [
    "list(str(266667))"
   ]
  },
  {
   "cell_type": "code",
   "execution_count": 187,
   "metadata": {
    "collapsed": false
   },
   "outputs": [
    {
     "data": {
      "text/plain": [
       "[['2', '6'], ['6', '6'], ['6', '6'], ['6', '6'], ['6', '7']]"
      ]
     },
     "execution_count": 187,
     "metadata": {},
     "output_type": "execute_result"
    }
   ],
   "source": [
    "container"
   ]
  },
  {
   "cell_type": "code",
   "execution_count": 388,
   "metadata": {
    "collapsed": true
   },
   "outputs": [],
   "source": [
    "# check for doubles in input, now not part of larger group:\n",
    "\n",
    "def double_present_update(number):\n",
    "    lis = list(str(number))\n",
    "    container = []\n",
    "    for x, y in zip(lis, lis[1:]):\n",
    "        container.append([x,y])\n",
    "#     num_string = str(number)\n",
    "    result = False\n",
    "    for i in range(len(container)):\n",
    "        if i == 0: # first comparison, check w/in + position 1\n",
    "            if container[i][0] == container[i][1] and container[i][1] != container[i+1][1]:\n",
    "                result = True\n",
    "                break\n",
    "        if i in [1,3]: # check position 1 + 3\n",
    "            if container[i][0] == container[i][1] and container[i][0] != container[i-1][0] and container[i][1] != container[i+1][1]:\n",
    "                result = True\n",
    "                break\n",
    "        if i == 2: # check second position\n",
    "            if container[i][0] == container[i][1] and container[i][0] != container[i-1][0] and container[i][1] != container[i+1][1]:\n",
    "                result = True\n",
    "                break\n",
    "        elif i == 4: # check last position\n",
    "            if container[i][0] == container[i][1] and container[i][0] != container[i-1][0]:\n",
    "                result = True\n",
    "                break\n",
    "\n",
    "    return result"
   ]
  },
  {
   "cell_type": "code",
   "execution_count": 389,
   "metadata": {
    "collapsed": false
   },
   "outputs": [],
   "source": [
    "# function to get list of passwords:\n",
    "\n",
    "def get_passwords_update(start, stop):\n",
    "    result = []\n",
    "    no_double = []\n",
    "    decrease_present = []\n",
    "    no_double_decrease_present = []\n",
    "    for i in range(start,stop):\n",
    "        if double_present_update(i) & decrease_not_present(i):\n",
    "            result.append(i)\n",
    "        if double_present_update(i) == False and decrease_not_present(i) == True:\n",
    "            no_double.append(i)\n",
    "        if decrease_not_present(i) == False and double_present_update(i) == True:\n",
    "            decrease_present.append(i)\n",
    "        if double_present_update(i) == False and decrease_not_present(i) == False:\n",
    "            no_double_decrease_present.append(i)\n",
    "    return result, no_double, decrease_present, no_double_decrease_present"
   ]
  },
  {
   "cell_type": "code",
   "execution_count": 369,
   "metadata": {
    "collapsed": false
   },
   "outputs": [
    {
     "name": "stdout",
     "output_type": "stream",
     "text": [
      "number of passwords: 604\n",
      "number w/ no doubles: 363\n",
      "number w/ decreases present: 159669\n",
      "number w/ no doubles and decreases present: 355673\n"
     ]
    }
   ],
   "source": [
    "result, no_double, decrease_present, no_double_decrease_present = get_passwords_update(265275,781584)\n",
    "print('number of passwords:',len(result)) # 446 is too low; 604 is also not right...\n",
    "print('number w/ no doubles:',len(no_double))\n",
    "print('number w/ decreases present:',len(decrease_present))\n",
    "print('number w/ no doubles and decreases present:',len(no_double_decrease_present))"
   ]
  },
  {
   "cell_type": "code",
   "execution_count": 390,
   "metadata": {
    "collapsed": false
   },
   "outputs": [
    {
     "name": "stdout",
     "output_type": "stream",
     "text": [
      "number of passwords: 626\n",
      "number w/ no doubles: 341\n",
      "number w/ decreases present: 193667\n",
      "number w/ no doubles and decreases present: 321675\n"
     ]
    }
   ],
   "source": [
    "result, no_double, decrease_present, no_double_decrease_present = get_passwords_update(265275,781584)\n",
    "print('number of passwords:',len(result)) # 446 is too low; 604 is also not right...; 626 is the correct number!\n",
    "print('number w/ no doubles:',len(no_double))\n",
    "print('number w/ decreases present:',len(decrease_present))\n",
    "print('number w/ no doubles and decreases present:',len(no_double_decrease_present))"
   ]
  },
  {
   "cell_type": "code",
   "execution_count": 391,
   "metadata": {
    "collapsed": false
   },
   "outputs": [
    {
     "name": "stdout",
     "output_type": "stream",
     "text": [
      "total number of inputs to check: 516309\n",
      "total number collected: 516309\n"
     ]
    }
   ],
   "source": [
    "print('total number of inputs to check:',781584-265275)\n",
    "print('total number collected:',604+363+159669+355673)"
   ]
  },
  {
   "cell_type": "code",
   "execution_count": 241,
   "metadata": {
    "collapsed": true
   },
   "outputs": [],
   "source": [
    "lis = list(str(112233))\n",
    "test = []\n",
    "for x, y in zip(lis, lis[1:]):\n",
    "    test.append([x,y])"
   ]
  },
  {
   "cell_type": "code",
   "execution_count": 379,
   "metadata": {
    "collapsed": false
   },
   "outputs": [
    {
     "name": "stdout",
     "output_type": "stream",
     "text": [
      "112233 True True\n",
      "123444 True False\n",
      "111122 True True\n",
      "111111 True False\n",
      "223450 False True\n",
      "123789 True False\n",
      "112222 True True\n",
      "211222 False True\n",
      "111223 True True\n",
      "122334 True True\n",
      "122233 True True\n",
      "123345 True False\n"
     ]
    }
   ],
   "source": [
    "# let's test some inputs to troubleshoot:\n",
    "\n",
    "nums_to_test = [112233,123444,111122,111111,\n",
    "               223450,123789,112222,211222,\n",
    "               111223,122334,122233,123345,]\n",
    "\n",
    "for i in nums_to_test:\n",
    "    print(i, decrease_not_present(i),double_present_update(i))"
   ]
  },
  {
   "cell_type": "code",
   "execution_count": 299,
   "metadata": {
    "collapsed": false
   },
   "outputs": [
    {
     "data": {
      "text/plain": [
       "False"
      ]
     },
     "execution_count": 299,
     "metadata": {},
     "output_type": "execute_result"
    }
   ],
   "source": [
    "decrease_not_present(211222)"
   ]
  },
  {
   "cell_type": "code",
   "execution_count": 327,
   "metadata": {
    "collapsed": false
   },
   "outputs": [
    {
     "data": {
      "text/plain": [
       "False"
      ]
     },
     "execution_count": 327,
     "metadata": {},
     "output_type": "execute_result"
    }
   ],
   "source": [
    "double_present_update(222112)"
   ]
  },
  {
   "cell_type": "code",
   "execution_count": 373,
   "metadata": {
    "collapsed": false
   },
   "outputs": [
    {
     "data": {
      "text/plain": [
       "[['2', '6'], ['6', '7'], ['7', '7'], ['7', '8'], ['8', '9']]"
      ]
     },
     "execution_count": 373,
     "metadata": {},
     "output_type": "execute_result"
    }
   ],
   "source": [
    "lis = list(str(267789))\n",
    "container = []\n",
    "for x, y in zip(lis, lis[1:]):\n",
    "    container.append([x,y])\n",
    "container"
   ]
  },
  {
   "cell_type": "code",
   "execution_count": 384,
   "metadata": {
    "collapsed": false
   },
   "outputs": [
    {
     "data": {
      "text/plain": [
       "False"
      ]
     },
     "execution_count": 384,
     "metadata": {},
     "output_type": "execute_result"
    }
   ],
   "source": [
    "double_present_update(267789)"
   ]
  },
  {
   "cell_type": "code",
   "execution_count": 320,
   "metadata": {
    "collapsed": false
   },
   "outputs": [
    {
     "data": {
      "text/plain": [
       "True"
      ]
     },
     "execution_count": 320,
     "metadata": {},
     "output_type": "execute_result"
    }
   ],
   "source": [
    "# check middle positions(1,2,3)\n",
    "container[1][0] == container[1][1] and container[1][0] != container[1-1][0] and container[1][1] != container[1+1][1]"
   ]
  },
  {
   "cell_type": "code",
   "execution_count": 374,
   "metadata": {
    "collapsed": false
   },
   "outputs": [
    {
     "data": {
      "text/plain": [
       "[['2', '6'], ['6', '7'], ['7', '7'], ['7', '8'], ['8', '9']]"
      ]
     },
     "execution_count": 374,
     "metadata": {},
     "output_type": "execute_result"
    }
   ],
   "source": [
    "container"
   ]
  },
  {
   "cell_type": "code",
   "execution_count": 387,
   "metadata": {
    "collapsed": false
   },
   "outputs": [
    {
     "data": {
      "text/plain": [
       "True"
      ]
     },
     "execution_count": 387,
     "metadata": {},
     "output_type": "execute_result"
    }
   ],
   "source": [
    "#check position 2:\n",
    "double_present_update(267789)\n",
    "container[2][0] == container[2][1] and container[2][0] != container[2-1][0] and container[2][1] != container[2+1][1]"
   ]
  },
  {
   "cell_type": "code",
   "execution_count": 382,
   "metadata": {
    "collapsed": false
   },
   "outputs": [
    {
     "data": {
      "text/plain": [
       "True"
      ]
     },
     "execution_count": 382,
     "metadata": {},
     "output_type": "execute_result"
    }
   ],
   "source": [
    "container[2][1] != container[2+1][1]"
   ]
  },
  {
   "cell_type": "code",
   "execution_count": null,
   "metadata": {
    "collapsed": true
   },
   "outputs": [],
   "source": []
  }
 ],
 "metadata": {
  "anaconda-cloud": {},
  "kernelspec": {
   "display_name": "Python [insight]",
   "language": "python",
   "name": "Python [insight]"
  },
  "language_info": {
   "codemirror_mode": {
    "name": "ipython",
    "version": 3
   },
   "file_extension": ".py",
   "mimetype": "text/x-python",
   "name": "python",
   "nbconvert_exporter": "python",
   "pygments_lexer": "ipython3",
   "version": "3.6.2"
  }
 },
 "nbformat": 4,
 "nbformat_minor": 0
}
